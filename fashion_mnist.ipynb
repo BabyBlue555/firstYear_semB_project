{
 "cells": [
  {
   "cell_type": "code",
   "execution_count": 1,
   "metadata": {},
   "outputs": [],
   "source": [
    " #pip install --upgrade tensorflow\n",
    " #pip install xgboost"
   ]
  },
  {
   "cell_type": "code",
   "execution_count": 2,
   "metadata": {},
   "outputs": [],
   "source": [
    "import tensorflow as tf\n",
    "from tensorflow import keras\n",
    "import pandas as pd\n",
    "import matplotlib.pyplot as plt\n",
    "import numpy as np\n",
    "import seaborn as sns\n",
    "from tensorflow.keras.datasets import fashion_mnist\n",
    "import sklearn\n",
    "from sklearn.metrics import classification_report\n",
    "from sklearn.ensemble import VotingClassifier\n",
    "from sklearn.model_selection import train_test_split\n",
    "from sklearn.decomposition import PCA\n",
    "from sklearn.neighbors import KNeighborsClassifier\n",
    "from sklearn.metrics import accuracy_score\n",
    "from sklearn.pipeline import Pipeline\n",
    "from sklearn.model_selection import GridSearchCV\n",
    "from sklearn.preprocessing import StandardScaler\n",
    "from sklearn.cluster import KMeans\n",
    "from sklearn.ensemble import RandomForestClassifier \n",
    "from sklearn.ensemble import BaggingClassifier\n",
    "from sklearn.tree import DecisionTreeClassifier\n",
    "from sklearn import metrics\n",
    "from sklearn.linear_model import LogisticRegression\n",
    "from sklearn.linear_model import LinearRegression\n",
    "from sklearn.ensemble import AdaBoostClassifier\n",
    "from sklearn.metrics import classification_report, confusion_matrix\n",
    "from sklearn.model_selection import GridSearchCV\n",
    "from sklearn import svm\n",
    "from sklearn.dummy import DummyClassifier\n",
    "import xgboost\n",
    "from xgboost import XGBClassifier"
   ]
  },
  {
   "cell_type": "code",
   "execution_count": 3,
   "metadata": {},
   "outputs": [],
   "source": [
    "(X_train, y_train), (X_test_final, y_test_final) = fashion_mnist.load_data()"
   ]
  },
  {
   "cell_type": "code",
   "execution_count": 4,
   "metadata": {},
   "outputs": [
    {
     "name": "stdout",
     "output_type": "stream",
     "text": [
      "train examples 60000\n",
      "train outputs 60000\n",
      "test exmaples 10000\n",
      "test outputs 10000\n"
     ]
    }
   ],
   "source": [
    "# lets see the distribution of the data \n",
    "print(\"train examples\", len(X_train))\n",
    "print(\"train outputs\", len(y_train))\n",
    "print(\"test exmaples\", len(X_test_final))\n",
    "print(\"test outputs\", len(y_test_final))"
   ]
  },
  {
   "cell_type": "code",
   "execution_count": 5,
   "metadata": {},
   "outputs": [],
   "source": [
    "# We notice that the labels are given without explaining which clothes they are supposed to represent - they are represented by numbers. Therefore, we make a list \n",
    "# that will store the item names\n",
    "# instead of 0-9 values\n",
    "label_names = [\"T-shirt/top\", \"Trouser\", \"Pullover\", \"Dress\", \"Coat\",\n",
    " \"Sandal\", \"Shirt\", \"Sneaker\", \"Bag\", \"Ankle boot\"]"
   ]
  },
  {
   "cell_type": "markdown",
   "metadata": {},
   "source": [
    "## Preproccessing"
   ]
  },
  {
   "cell_type": "code",
   "execution_count": null,
   "metadata": {},
   "outputs": [],
   "source": []
  },
  {
   "cell_type": "code",
   "execution_count": 6,
   "metadata": {},
   "outputs": [],
   "source": [
    "X_train, X_test_final = X_train.reshape(60000, 784), X_test_final.reshape(10000, 784)"
   ]
  },
  {
   "cell_type": "code",
   "execution_count": 7,
   "metadata": {},
   "outputs": [],
   "source": [
    "X_train = pd.DataFrame(X_train)\n",
    "y_train = pd.DataFrame(y_train)\n",
    "X_test_final = pd.DataFrame(X_test_final)\n",
    "y_test_final = pd.DataFrame(y_test_final)"
   ]
  },
  {
   "cell_type": "markdown",
   "metadata": {},
   "source": [
    "Normilazation"
   ]
  },
  {
   "cell_type": "code",
   "execution_count": 8,
   "metadata": {},
   "outputs": [],
   "source": [
    "X_train = X_train.astype('float32')\n",
    "#y_train = y_train.astype('float32')\n",
    "X_test_final = X_test_final.astype('float32')\n",
    "#y_test_final = y_test_final.astype('float32')\n",
    "\n",
    "X_train /= 255.0\n",
    "X_test_final /= 255.0"
   ]
  },
  {
   "cell_type": "code",
   "execution_count": 9,
   "metadata": {},
   "outputs": [],
   "source": [
    "X_train , X_test , y_train , y_test = train_test_split(X_train, y_train ,test_size = 0.2 , shuffle = True , random_state = 1)"
   ]
  },
  {
   "cell_type": "code",
   "execution_count": 10,
   "metadata": {},
   "outputs": [
    {
     "data": {
      "text/html": [
       "<div>\n",
       "<style scoped>\n",
       "    .dataframe tbody tr th:only-of-type {\n",
       "        vertical-align: middle;\n",
       "    }\n",
       "\n",
       "    .dataframe tbody tr th {\n",
       "        vertical-align: top;\n",
       "    }\n",
       "\n",
       "    .dataframe thead th {\n",
       "        text-align: right;\n",
       "    }\n",
       "</style>\n",
       "<table border=\"1\" class=\"dataframe\">\n",
       "  <thead>\n",
       "    <tr style=\"text-align: right;\">\n",
       "      <th></th>\n",
       "      <th>0</th>\n",
       "      <th>1</th>\n",
       "      <th>2</th>\n",
       "      <th>3</th>\n",
       "      <th>4</th>\n",
       "      <th>5</th>\n",
       "      <th>6</th>\n",
       "      <th>7</th>\n",
       "      <th>8</th>\n",
       "      <th>9</th>\n",
       "      <th>...</th>\n",
       "      <th>774</th>\n",
       "      <th>775</th>\n",
       "      <th>776</th>\n",
       "      <th>777</th>\n",
       "      <th>778</th>\n",
       "      <th>779</th>\n",
       "      <th>780</th>\n",
       "      <th>781</th>\n",
       "      <th>782</th>\n",
       "      <th>783</th>\n",
       "    </tr>\n",
       "  </thead>\n",
       "  <tbody>\n",
       "    <tr>\n",
       "      <th>5004</th>\n",
       "      <td>0.0</td>\n",
       "      <td>0.0</td>\n",
       "      <td>0.000000</td>\n",
       "      <td>0.0</td>\n",
       "      <td>0.000000</td>\n",
       "      <td>0.000000</td>\n",
       "      <td>0.000000</td>\n",
       "      <td>0.000000</td>\n",
       "      <td>0.0</td>\n",
       "      <td>0.0</td>\n",
       "      <td>...</td>\n",
       "      <td>0.000000</td>\n",
       "      <td>0.000000</td>\n",
       "      <td>0.000000</td>\n",
       "      <td>0.0</td>\n",
       "      <td>0.000000</td>\n",
       "      <td>0.000000</td>\n",
       "      <td>0.000000</td>\n",
       "      <td>0.000000</td>\n",
       "      <td>0.0</td>\n",
       "      <td>0.0</td>\n",
       "    </tr>\n",
       "    <tr>\n",
       "      <th>17676</th>\n",
       "      <td>0.0</td>\n",
       "      <td>0.0</td>\n",
       "      <td>0.000000</td>\n",
       "      <td>0.0</td>\n",
       "      <td>0.000000</td>\n",
       "      <td>0.000000</td>\n",
       "      <td>0.000000</td>\n",
       "      <td>0.000000</td>\n",
       "      <td>0.0</td>\n",
       "      <td>0.0</td>\n",
       "      <td>...</td>\n",
       "      <td>0.000000</td>\n",
       "      <td>0.000000</td>\n",
       "      <td>0.000000</td>\n",
       "      <td>0.0</td>\n",
       "      <td>0.000000</td>\n",
       "      <td>0.000000</td>\n",
       "      <td>0.000000</td>\n",
       "      <td>0.000000</td>\n",
       "      <td>0.0</td>\n",
       "      <td>0.0</td>\n",
       "    </tr>\n",
       "    <tr>\n",
       "      <th>29485</th>\n",
       "      <td>0.0</td>\n",
       "      <td>0.0</td>\n",
       "      <td>0.000000</td>\n",
       "      <td>0.0</td>\n",
       "      <td>0.000000</td>\n",
       "      <td>0.000000</td>\n",
       "      <td>0.000000</td>\n",
       "      <td>0.000000</td>\n",
       "      <td>0.0</td>\n",
       "      <td>0.0</td>\n",
       "      <td>...</td>\n",
       "      <td>0.000000</td>\n",
       "      <td>0.000000</td>\n",
       "      <td>0.000000</td>\n",
       "      <td>0.0</td>\n",
       "      <td>0.000000</td>\n",
       "      <td>0.000000</td>\n",
       "      <td>0.000000</td>\n",
       "      <td>0.000000</td>\n",
       "      <td>0.0</td>\n",
       "      <td>0.0</td>\n",
       "    </tr>\n",
       "    <tr>\n",
       "      <th>36476</th>\n",
       "      <td>0.0</td>\n",
       "      <td>0.0</td>\n",
       "      <td>0.000000</td>\n",
       "      <td>0.0</td>\n",
       "      <td>0.007843</td>\n",
       "      <td>0.003922</td>\n",
       "      <td>0.000000</td>\n",
       "      <td>0.000000</td>\n",
       "      <td>0.0</td>\n",
       "      <td>0.0</td>\n",
       "      <td>...</td>\n",
       "      <td>0.000000</td>\n",
       "      <td>0.000000</td>\n",
       "      <td>0.007843</td>\n",
       "      <td>0.0</td>\n",
       "      <td>0.070588</td>\n",
       "      <td>0.811765</td>\n",
       "      <td>0.831373</td>\n",
       "      <td>0.407843</td>\n",
       "      <td>0.0</td>\n",
       "      <td>0.0</td>\n",
       "    </tr>\n",
       "    <tr>\n",
       "      <th>45508</th>\n",
       "      <td>0.0</td>\n",
       "      <td>0.0</td>\n",
       "      <td>0.003922</td>\n",
       "      <td>0.0</td>\n",
       "      <td>0.000000</td>\n",
       "      <td>0.000000</td>\n",
       "      <td>0.007843</td>\n",
       "      <td>0.003922</td>\n",
       "      <td>0.0</td>\n",
       "      <td>0.0</td>\n",
       "      <td>...</td>\n",
       "      <td>0.376471</td>\n",
       "      <td>0.317647</td>\n",
       "      <td>0.066667</td>\n",
       "      <td>0.0</td>\n",
       "      <td>0.000000</td>\n",
       "      <td>0.000000</td>\n",
       "      <td>0.000000</td>\n",
       "      <td>0.000000</td>\n",
       "      <td>0.0</td>\n",
       "      <td>0.0</td>\n",
       "    </tr>\n",
       "  </tbody>\n",
       "</table>\n",
       "<p>5 rows × 784 columns</p>\n",
       "</div>"
      ],
      "text/plain": [
       "       0    1         2    3         4         5         6         7    8    \\\n",
       "5004   0.0  0.0  0.000000  0.0  0.000000  0.000000  0.000000  0.000000  0.0   \n",
       "17676  0.0  0.0  0.000000  0.0  0.000000  0.000000  0.000000  0.000000  0.0   \n",
       "29485  0.0  0.0  0.000000  0.0  0.000000  0.000000  0.000000  0.000000  0.0   \n",
       "36476  0.0  0.0  0.000000  0.0  0.007843  0.003922  0.000000  0.000000  0.0   \n",
       "45508  0.0  0.0  0.003922  0.0  0.000000  0.000000  0.007843  0.003922  0.0   \n",
       "\n",
       "       9    ...       774       775       776  777       778       779  \\\n",
       "5004   0.0  ...  0.000000  0.000000  0.000000  0.0  0.000000  0.000000   \n",
       "17676  0.0  ...  0.000000  0.000000  0.000000  0.0  0.000000  0.000000   \n",
       "29485  0.0  ...  0.000000  0.000000  0.000000  0.0  0.000000  0.000000   \n",
       "36476  0.0  ...  0.000000  0.000000  0.007843  0.0  0.070588  0.811765   \n",
       "45508  0.0  ...  0.376471  0.317647  0.066667  0.0  0.000000  0.000000   \n",
       "\n",
       "            780       781  782  783  \n",
       "5004   0.000000  0.000000  0.0  0.0  \n",
       "17676  0.000000  0.000000  0.0  0.0  \n",
       "29485  0.000000  0.000000  0.0  0.0  \n",
       "36476  0.831373  0.407843  0.0  0.0  \n",
       "45508  0.000000  0.000000  0.0  0.0  \n",
       "\n",
       "[5 rows x 784 columns]"
      ]
     },
     "execution_count": 10,
     "metadata": {},
     "output_type": "execute_result"
    }
   ],
   "source": [
    "X_train.head()"
   ]
  },
  {
   "cell_type": "code",
   "execution_count": null,
   "metadata": {},
   "outputs": [],
   "source": []
  },
  {
   "cell_type": "markdown",
   "metadata": {},
   "source": [
    "## Checking for NaNs"
   ]
  },
  {
   "cell_type": "code",
   "execution_count": 11,
   "metadata": {},
   "outputs": [],
   "source": [
    "# since we got the dataframe from a numpy array, there is no chance there is a NaN.\n",
    "# we will show that there aren't NaNs.\n",
    "# move it upward before the split."
   ]
  },
  {
   "cell_type": "code",
   "execution_count": 12,
   "metadata": {},
   "outputs": [
    {
     "name": "stdout",
     "output_type": "stream",
     "text": [
      "X_train NaNs 0\n",
      "y_train NaNs 0\n",
      "X_test NaNs 0\n",
      "y_test NaNs 0\n"
     ]
    }
   ],
   "source": [
    "print(\"X_train NaNs\", X_train.isna().sum().sum())\n",
    "print(\"y_train NaNs\", y_train.isna().sum().sum())\n",
    "print(\"X_test NaNs\", X_test.isna().sum().sum())\n",
    "print(\"y_test NaNs\", y_test.isna().sum().sum())"
   ]
  },
  {
   "cell_type": "markdown",
   "metadata": {},
   "source": [
    "# Simple models without PCA"
   ]
  },
  {
   "cell_type": "markdown",
   "metadata": {},
   "source": [
    "### KNN:"
   ]
  },
  {
   "cell_type": "code",
   "execution_count": 13,
   "metadata": {},
   "outputs": [],
   "source": [
    "y_train = np.ravel(y_train)"
   ]
  },
  {
   "cell_type": "code",
   "execution_count": 14,
   "metadata": {},
   "outputs": [
    {
     "data": {
      "text/plain": [
       "KNeighborsClassifier()"
      ]
     },
     "execution_count": 14,
     "metadata": {},
     "output_type": "execute_result"
    }
   ],
   "source": [
    "knn = KNeighborsClassifier(n_neighbors=5)\n",
    "knn.fit(X_train, y_train)"
   ]
  },
  {
   "cell_type": "code",
   "execution_count": 15,
   "metadata": {},
   "outputs": [
    {
     "data": {
      "text/plain": [
       "0.8533333333333334"
      ]
     },
     "execution_count": 15,
     "metadata": {},
     "output_type": "execute_result"
    }
   ],
   "source": [
    "y_pred = knn.predict(X_test)\n",
    "accuracy_knn = accuracy_score(y_test, y_pred)\n",
    "accuracy_knn"
   ]
  },
  {
   "cell_type": "markdown",
   "metadata": {},
   "source": [
    "### Random forest "
   ]
  },
  {
   "cell_type": "code",
   "execution_count": 16,
   "metadata": {},
   "outputs": [],
   "source": [
    "# instantiate the model\n",
    "rand_forest= RandomForestClassifier(n_estimators=300, n_jobs=-1, random_state=0)\n",
    "\n",
    "# fit the model with data\n",
    "rand_forest.fit(X_train, y_train)\n",
    "\n",
    "#make predictions on the testing set (predict for first_test)\n",
    "y_pred = rand_forest.predict(X_test)"
   ]
  },
  {
   "cell_type": "code",
   "execution_count": 17,
   "metadata": {},
   "outputs": [
    {
     "data": {
      "text/plain": [
       "0.8841666666666667"
      ]
     },
     "execution_count": 17,
     "metadata": {},
     "output_type": "execute_result"
    }
   ],
   "source": [
    "accuracy_rand_forest = metrics.accuracy_score(y_test, y_pred)\n",
    "accuracy_rand_forest"
   ]
  },
  {
   "cell_type": "markdown",
   "metadata": {},
   "source": [
    "### SVM"
   ]
  },
  {
   "cell_type": "code",
   "execution_count": 18,
   "metadata": {},
   "outputs": [
    {
     "data": {
      "text/plain": [
       "0.8888333333333334"
      ]
     },
     "execution_count": 18,
     "metadata": {},
     "output_type": "execute_result"
    }
   ],
   "source": [
    "svm_model = svm.SVC()\n",
    "svm_model.fit(X_train, y_train)\n",
    "y_pred = svm_model.predict(X_test)\n",
    "accuracy_svm = metrics.accuracy_score(y_test, y_pred)\n",
    "accuracy_svm"
   ]
  },
  {
   "cell_type": "markdown",
   "metadata": {},
   "source": [
    "# PCA"
   ]
  },
  {
   "cell_type": "code",
   "execution_count": 19,
   "metadata": {},
   "outputs": [],
   "source": [
    "pca = PCA(n_components = 0.9)\n",
    "# using pca show to show where to take\n",
    "#pca = PCA(n_components = 100)"
   ]
  },
  {
   "cell_type": "code",
   "execution_count": 20,
   "metadata": {},
   "outputs": [],
   "source": [
    "# figure out what is the difference between pca.fit and pca.fit_transform\n",
    "# not use pca.fit_transform twice\n",
    "#https://stackoverflow.com/questions/40366175/handle-incompatible-matrices-shapes-in-tf-idf\n",
    "X_train_reduced = pca.fit_transform(X_train)\n",
    "X_test_reduced = pca.transform(X_test)\n",
    "X_test_reduced_final = pca.transform(X_test_final)"
   ]
  },
  {
   "cell_type": "code",
   "execution_count": 21,
   "metadata": {},
   "outputs": [
    {
     "name": "stdout",
     "output_type": "stream",
     "text": [
      "y shape (48000,)\n",
      "x shape (48000, 84)\n"
     ]
    }
   ],
   "source": [
    "print(\"y shape\", y_train.shape)\n",
    "print(\"x shape\", X_train_reduced.shape)"
   ]
  },
  {
   "cell_type": "code",
   "execution_count": 22,
   "metadata": {},
   "outputs": [
    {
     "name": "stdout",
     "output_type": "stream",
     "text": [
      "number of dimensions 84\n"
     ]
    }
   ],
   "source": [
    "print(\"number of dimensions\", X_train_reduced.shape[1])"
   ]
  },
  {
   "cell_type": "code",
   "execution_count": 23,
   "metadata": {},
   "outputs": [],
   "source": [
    "# find out why we need to use ravel(gives a warning/error otherwise)\n",
    "y_train = np.ravel(y_train)\n",
    "y_test = np.ravel(y_test)"
   ]
  },
  {
   "cell_type": "code",
   "execution_count": 24,
   "metadata": {},
   "outputs": [
    {
     "data": {
      "image/png": "[encoded data removed]",
      "text/plain": [
       "<Figure size 432x288 with 1 Axes>"
      ]
     },
     "metadata": {
      "needs_background": "light"
     },
     "output_type": "display_data"
    }
   ],
   "source": [
    "pca = PCA()\n",
    "pca.fit(X_train)\n",
    "cumsum = np.cumsum(pca.explained_variance_ratio_)\n",
    "plt.plot(cumsum)\n",
    "plt.show()"
   ]
  },
  {
   "cell_type": "markdown",
   "metadata": {},
   "source": [
    "# Simple Models with PCA"
   ]
  },
  {
   "cell_type": "markdown",
   "metadata": {},
   "source": [
    "### Dummy classifier"
   ]
  },
  {
   "cell_type": "code",
   "execution_count": 25,
   "metadata": {},
   "outputs": [
    {
     "data": {
      "text/plain": [
       "DummyClassifier(strategy='stratified')"
      ]
     },
     "execution_count": 25,
     "metadata": {},
     "output_type": "execute_result"
    }
   ],
   "source": [
    "dummy_clf = DummyClassifier(strategy=\"stratified\")\n",
    "dummy_clf.fit(X_train_reduced, y_train)"
   ]
  },
  {
   "cell_type": "code",
   "execution_count": 26,
   "metadata": {},
   "outputs": [
    {
     "data": {
      "text/plain": [
       "0.10233333333333333"
      ]
     },
     "execution_count": 26,
     "metadata": {},
     "output_type": "execute_result"
    }
   ],
   "source": [
    "y_pred =dummy_clf.predict(X_test_reduced)\n",
    "accuracy_dummy = accuracy_score(y_test, y_pred)\n",
    "accuracy_dummy"
   ]
  },
  {
   "cell_type": "code",
   "execution_count": 27,
   "metadata": {},
   "outputs": [
    {
     "name": "stdout",
     "output_type": "stream",
     "text": [
      "              precision    recall  f1-score   support\n",
      "\n",
      "           0       0.09      0.09      0.09      1172\n",
      "           1       0.10      0.11      0.10      1195\n",
      "           2       0.10      0.11      0.10      1118\n",
      "           3       0.11      0.11      0.11      1282\n",
      "           4       0.10      0.10      0.10      1170\n",
      "           5       0.12      0.11      0.11      1251\n",
      "           6       0.11      0.10      0.10      1245\n",
      "           7       0.09      0.10      0.09      1168\n",
      "           8       0.11      0.11      0.11      1224\n",
      "           9       0.09      0.10      0.10      1175\n",
      "\n",
      "    accuracy                           0.10     12000\n",
      "   macro avg       0.10      0.10      0.10     12000\n",
      "weighted avg       0.10      0.10      0.10     12000\n",
      "\n"
     ]
    }
   ],
   "source": [
    "print(classification_report(y_pred, y_test))"
   ]
  },
  {
   "cell_type": "markdown",
   "metadata": {},
   "source": [
    "### preparing dataframe for GridSearch"
   ]
  },
  {
   "cell_type": "code",
   "execution_count": 28,
   "metadata": {},
   "outputs": [],
   "source": [
    "_, X_minor_train , _ , y_minor_train =  train_test_split(X_train_reduced.copy(), y_train.copy() ,test_size = 0.1\n",
    "                                                         , shuffle = True , random_state = 1)"
   ]
  },
  {
   "cell_type": "markdown",
   "metadata": {},
   "source": [
    "### GridSearch on knn"
   ]
  },
  {
   "cell_type": "code",
   "execution_count": 29,
   "metadata": {},
   "outputs": [],
   "source": [
    "knn = KNeighborsClassifier()\n",
    "k_range = list(range(1, 31))\n",
    "param_grid = dict(n_neighbors=k_range)"
   ]
  },
  {
   "cell_type": "code",
   "execution_count": 30,
   "metadata": {},
   "outputs": [],
   "source": [
    "grid = GridSearchCV(knn, param_grid, cv = 10, scoring='accuracy')"
   ]
  },
  {
   "cell_type": "code",
   "execution_count": 31,
   "metadata": {},
   "outputs": [],
   "source": [
    "grid_search=grid.fit(X_minor_train, y_minor_train)"
   ]
  },
  {
   "cell_type": "code",
   "execution_count": 32,
   "metadata": {},
   "outputs": [
    {
     "name": "stdout",
     "output_type": "stream",
     "text": [
      "{'n_neighbors': 8}\n"
     ]
    }
   ],
   "source": [
    "print(grid_search.best_params_)"
   ]
  },
  {
   "cell_type": "markdown",
   "metadata": {},
   "source": [
    "### KNN:"
   ]
  },
  {
   "cell_type": "code",
   "execution_count": 33,
   "metadata": {},
   "outputs": [
    {
     "data": {
      "text/plain": [
       "KNeighborsClassifier(n_neighbors=8)"
      ]
     },
     "execution_count": 33,
     "metadata": {},
     "output_type": "execute_result"
    }
   ],
   "source": [
    "knn = KNeighborsClassifier(n_neighbors=8)\n",
    "knn.fit(X_train_reduced, y_train)"
   ]
  },
  {
   "cell_type": "code",
   "execution_count": 34,
   "metadata": {},
   "outputs": [
    {
     "data": {
      "text/plain": [
       "0.8649166666666667"
      ]
     },
     "execution_count": 34,
     "metadata": {},
     "output_type": "execute_result"
    }
   ],
   "source": [
    "y_pred = knn.predict(X_test_reduced)\n",
    "accuracy_knn = accuracy_score(y_test, y_pred)\n",
    "accuracy_knn"
   ]
  },
  {
   "cell_type": "code",
   "execution_count": 35,
   "metadata": {},
   "outputs": [
    {
     "name": "stdout",
     "output_type": "stream",
     "text": [
      "              precision    recall  f1-score   support\n",
      "\n",
      "           0       0.78      0.89      0.83      1166\n",
      "           1       0.99      0.97      0.98      1213\n",
      "           2       0.75      0.78      0.76      1232\n",
      "           3       0.90      0.89      0.89      1209\n",
      "           4       0.75      0.79      0.77      1159\n",
      "           5       0.98      0.89      0.94      1217\n",
      "           6       0.70      0.57      0.63      1178\n",
      "           7       0.91      0.95      0.93      1215\n",
      "           8       0.97      0.95      0.96      1178\n",
      "           9       0.92      0.95      0.93      1233\n",
      "\n",
      "    accuracy                           0.86     12000\n",
      "   macro avg       0.86      0.86      0.86     12000\n",
      "weighted avg       0.87      0.86      0.86     12000\n",
      "\n"
     ]
    }
   ],
   "source": [
    "print(classification_report(y_test, y_pred))"
   ]
  },
  {
   "cell_type": "markdown",
   "metadata": {},
   "source": [
    "### GridSearch on Random Forest"
   ]
  },
  {
   "cell_type": "code",
   "execution_count": 36,
   "metadata": {},
   "outputs": [
    {
     "data": {
      "text/plain": [
       "GridSearchCV(cv=5, estimator=RandomForestClassifier(n_jobs=-1, random_state=0),\n",
       "             param_grid={'criterion': ['gini', 'entropy'],\n",
       "                         'max_features': ['auto', 'sqrt', 'log2'],\n",
       "                         'n_estimators': [200, 300]})"
      ]
     },
     "execution_count": 36,
     "metadata": {},
     "output_type": "execute_result"
    }
   ],
   "source": [
    "param_grid = { \n",
    "    'n_estimators': [200, 300],\n",
    "    'max_features': ['auto', 'sqrt', 'log2'],\n",
    "    'criterion' : ['gini', 'entropy']\n",
    "}\n",
    "rand_forest= RandomForestClassifier(n_jobs=-1, random_state=0)\n",
    "rfc = GridSearchCV(estimator=rand_forest, param_grid=param_grid, cv= 5)\n",
    "rfc.fit(X_minor_train, y_minor_train)"
   ]
  },
  {
   "cell_type": "code",
   "execution_count": 37,
   "metadata": {},
   "outputs": [
    {
     "name": "stdout",
     "output_type": "stream",
     "text": [
      "{'criterion': 'gini', 'max_features': 'log2', 'n_estimators': 300}\n"
     ]
    }
   ],
   "source": [
    "print(rfc.best_params_)"
   ]
  },
  {
   "cell_type": "markdown",
   "metadata": {},
   "source": [
    "### Random Forest"
   ]
  },
  {
   "cell_type": "code",
   "execution_count": 38,
   "metadata": {},
   "outputs": [],
   "source": [
    "rand_forest= RandomForestClassifier(n_estimators=300, n_jobs=-1, random_state=0, criterion = 'gini', \n",
    "                                   max_features = 'auto')\n",
    "\n",
    "rand_forest.fit(X_train_reduced, y_train)\n",
    "\n",
    "y_pred = rand_forest.predict(X_test_reduced)"
   ]
  },
  {
   "cell_type": "code",
   "execution_count": 39,
   "metadata": {},
   "outputs": [
    {
     "data": {
      "text/plain": [
       "0.8715"
      ]
     },
     "execution_count": 39,
     "metadata": {},
     "output_type": "execute_result"
    }
   ],
   "source": [
    "accuracy_rand_forest = metrics.accuracy_score(y_test, y_pred)\n",
    "accuracy_rand_forest"
   ]
  },
  {
   "cell_type": "code",
   "execution_count": 40,
   "metadata": {},
   "outputs": [
    {
     "name": "stdout",
     "output_type": "stream",
     "text": [
      "              precision    recall  f1-score   support\n",
      "\n",
      "           0       0.80      0.88      0.84      1166\n",
      "           1       1.00      0.96      0.98      1213\n",
      "           2       0.78      0.80      0.79      1232\n",
      "           3       0.87      0.90      0.88      1209\n",
      "           4       0.77      0.82      0.79      1159\n",
      "           5       0.94      0.94      0.94      1217\n",
      "           6       0.74      0.58      0.65      1178\n",
      "           7       0.93      0.93      0.93      1215\n",
      "           8       0.94      0.95      0.95      1178\n",
      "           9       0.93      0.94      0.93      1233\n",
      "\n",
      "    accuracy                           0.87     12000\n",
      "   macro avg       0.87      0.87      0.87     12000\n",
      "weighted avg       0.87      0.87      0.87     12000\n",
      "\n"
     ]
    }
   ],
   "source": [
    "print(classification_report(y_test, y_pred))"
   ]
  },
  {
   "cell_type": "markdown",
   "metadata": {},
   "source": [
    "### Gridsearch for SVM"
   ]
  },
  {
   "cell_type": "code",
   "execution_count": 41,
   "metadata": {},
   "outputs": [
    {
     "data": {
      "text/plain": [
       "GridSearchCV(cv=10, estimator=SVC(),\n",
       "             param_grid={'C': [5, 6, 7, 8, 9, 10, 11, 12, 13, 14, 15, 16, 17,\n",
       "                               18, 19],\n",
       "                         'gamma': [0.025, 0.02, 0.15, 0.01, 0.005],\n",
       "                         'kernel': ['rbf']})"
      ]
     },
     "execution_count": 41,
     "metadata": {},
     "output_type": "execute_result"
    }
   ],
   "source": [
    "param_grid = {'C':list(range(5, 20)),\n",
    "              'gamma': [0.025, 0.02, 0.15, 0.01, 0.005],\n",
    "              'kernel': ['rbf']}\n",
    " \n",
    "grid = GridSearchCV(svm.SVC(), param_grid, cv = 10)\n",
    " \n",
    "# fitting the model for grid search[]\n",
    "grid.fit(X_minor_train, y_minor_train)"
   ]
  },
  {
   "cell_type": "code",
   "execution_count": 42,
   "metadata": {},
   "outputs": [
    {
     "name": "stdout",
     "output_type": "stream",
     "text": [
      "{'C': 7, 'gamma': 0.025, 'kernel': 'rbf'}\n"
     ]
    }
   ],
   "source": [
    "print(grid.best_params_)"
   ]
  },
  {
   "cell_type": "markdown",
   "metadata": {},
   "source": [
    "### SVM"
   ]
  },
  {
   "cell_type": "code",
   "execution_count": 43,
   "metadata": {},
   "outputs": [
    {
     "data": {
      "text/plain": [
       "SVC(C=7, gamma=0.025)"
      ]
     },
     "execution_count": 43,
     "metadata": {},
     "output_type": "execute_result"
    }
   ],
   "source": [
    "svm_model = svm.SVC(C = 7, gamma = 0.025, kernel = 'rbf')\n",
    "svm_model.fit(X_train_reduced, y_train)"
   ]
  },
  {
   "cell_type": "code",
   "execution_count": 44,
   "metadata": {},
   "outputs": [],
   "source": [
    "y_pred = svm_model.predict(X_test_reduced)"
   ]
  },
  {
   "cell_type": "code",
   "execution_count": 45,
   "metadata": {},
   "outputs": [
    {
     "data": {
      "text/plain": [
       "0.9045"
      ]
     },
     "execution_count": 45,
     "metadata": {},
     "output_type": "execute_result"
    }
   ],
   "source": [
    "accuracy_svm = metrics.accuracy_score(y_test, y_pred)\n",
    "accuracy_svm"
   ]
  },
  {
   "cell_type": "code",
   "execution_count": 46,
   "metadata": {},
   "outputs": [
    {
     "name": "stdout",
     "output_type": "stream",
     "text": [
      "              precision    recall  f1-score   support\n",
      "\n",
      "           0       0.83      0.88      0.86      1166\n",
      "           1       0.99      0.99      0.99      1213\n",
      "           2       0.83      0.83      0.83      1232\n",
      "           3       0.91      0.91      0.91      1209\n",
      "           4       0.83      0.86      0.84      1159\n",
      "           5       0.98      0.97      0.98      1217\n",
      "           6       0.77      0.71      0.74      1178\n",
      "           7       0.95      0.97      0.96      1215\n",
      "           8       0.98      0.96      0.97      1178\n",
      "           9       0.97      0.96      0.97      1233\n",
      "\n",
      "    accuracy                           0.90     12000\n",
      "   macro avg       0.90      0.90      0.90     12000\n",
      "weighted avg       0.90      0.90      0.90     12000\n",
      "\n"
     ]
    }
   ],
   "source": [
    "print(classification_report(y_test, y_pred))"
   ]
  },
  {
   "cell_type": "markdown",
   "metadata": {},
   "source": [
    "# Ensembles"
   ]
  },
  {
   "cell_type": "markdown",
   "metadata": {},
   "source": [
    "### Voting classifier  - Hard Voting"
   ]
  },
  {
   "cell_type": "code",
   "execution_count": 47,
   "metadata": {},
   "outputs": [],
   "source": [
    "rand_forest= RandomForestClassifier(n_estimators=300, n_jobs=-1, random_state=0, criterion = 'gini', \n",
    "                                   max_features = 'auto')\n",
    "knn = KNeighborsClassifier(n_neighbors=8)\n",
    "svm_model = svm.SVC(C = 7, gamma = 0.025, kernel = 'rbf', probability = True)"
   ]
  },
  {
   "cell_type": "code",
   "execution_count": 48,
   "metadata": {},
   "outputs": [],
   "source": [
    "voting_clf = VotingClassifier(estimators = [('sv', svm_model), ('rf', rand_forest), ('kn', knn)], voting = 'hard')"
   ]
  },
  {
   "cell_type": "code",
   "execution_count": 49,
   "metadata": {},
   "outputs": [
    {
     "data": {
      "text/plain": [
       "VotingClassifier(estimators=[('sv', SVC(C=7, gamma=0.025, probability=True)),\n",
       "                             ('rf',\n",
       "                              RandomForestClassifier(n_estimators=300,\n",
       "                                                     n_jobs=-1,\n",
       "                                                     random_state=0)),\n",
       "                             ('kn', KNeighborsClassifier(n_neighbors=8))])"
      ]
     },
     "execution_count": 49,
     "metadata": {},
     "output_type": "execute_result"
    }
   ],
   "source": [
    "voting_clf.fit(X_train_reduced, y_train)"
   ]
  },
  {
   "cell_type": "code",
   "execution_count": 50,
   "metadata": {},
   "outputs": [
    {
     "data": {
      "text/plain": [
       "0.8865833333333333"
      ]
     },
     "execution_count": 50,
     "metadata": {},
     "output_type": "execute_result"
    }
   ],
   "source": [
    "y_pred = voting_clf.predict(X_test_reduced)\n",
    "accuracy_hardVoting = accuracy_score(y_test, y_pred)\n",
    "accuracy_hardVoting"
   ]
  },
  {
   "cell_type": "code",
   "execution_count": 51,
   "metadata": {},
   "outputs": [
    {
     "name": "stdout",
     "output_type": "stream",
     "text": [
      "              precision    recall  f1-score   support\n",
      "\n",
      "           0       0.80      0.90      0.85      1166\n",
      "           1       0.99      0.97      0.98      1213\n",
      "           2       0.79      0.82      0.81      1232\n",
      "           3       0.89      0.91      0.90      1209\n",
      "           4       0.79      0.84      0.82      1159\n",
      "           5       0.98      0.94      0.96      1217\n",
      "           6       0.77      0.61      0.68      1178\n",
      "           7       0.93      0.95      0.94      1215\n",
      "           8       0.97      0.96      0.96      1178\n",
      "           9       0.94      0.96      0.95      1233\n",
      "\n",
      "    accuracy                           0.89     12000\n",
      "   macro avg       0.89      0.89      0.88     12000\n",
      "weighted avg       0.89      0.89      0.89     12000\n",
      "\n"
     ]
    }
   ],
   "source": [
    "print(classification_report(y_test, y_pred))"
   ]
  },
  {
   "cell_type": "markdown",
   "metadata": {},
   "source": [
    "### Soft Voting"
   ]
  },
  {
   "cell_type": "code",
   "execution_count": 52,
   "metadata": {},
   "outputs": [],
   "source": [
    "rand_forest= RandomForestClassifier(n_estimators=300, n_jobs=-1, random_state=0, criterion = 'gini', \n",
    "                                   max_features = 'auto')\n",
    "knn = KNeighborsClassifier(n_neighbors=8)\n",
    "svm_model = svm.SVC(C = 7, gamma = 0.025, kernel = 'rbf',probability = True)\n",
    "voting_clf = VotingClassifier(estimators = [('sv', svm_model), ('rf', rand_forest), ('kn', knn)], voting = 'soft')"
   ]
  },
  {
   "cell_type": "code",
   "execution_count": 53,
   "metadata": {},
   "outputs": [
    {
     "data": {
      "text/plain": [
       "VotingClassifier(estimators=[('sv', SVC(C=7, gamma=0.025, probability=True)),\n",
       "                             ('rf',\n",
       "                              RandomForestClassifier(n_estimators=300,\n",
       "                                                     n_jobs=-1,\n",
       "                                                     random_state=0)),\n",
       "                             ('kn', KNeighborsClassifier(n_neighbors=8))],\n",
       "                 voting='soft')"
      ]
     },
     "execution_count": 53,
     "metadata": {},
     "output_type": "execute_result"
    }
   ],
   "source": [
    "voting_clf.fit(X_train_reduced, y_train)"
   ]
  },
  {
   "cell_type": "code",
   "execution_count": 55,
   "metadata": {},
   "outputs": [
    {
     "data": {
      "text/plain": [
       "0.8969166666666667"
      ]
     },
     "execution_count": 55,
     "metadata": {},
     "output_type": "execute_result"
    }
   ],
   "source": [
    "y_pred = voting_clf.predict(X_test_reduced)\n",
    "accuracy_softVoting = accuracy_score(y_test, y_pred)\n",
    "accuracy_softVoting"
   ]
  },
  {
   "cell_type": "code",
   "execution_count": 56,
   "metadata": {},
   "outputs": [
    {
     "name": "stdout",
     "output_type": "stream",
     "text": [
      "              precision    recall  f1-score   support\n",
      "\n",
      "           0       0.83      0.89      0.86      1166\n",
      "           1       0.99      0.98      0.99      1213\n",
      "           2       0.82      0.82      0.82      1232\n",
      "           3       0.91      0.91      0.91      1209\n",
      "           4       0.80      0.85      0.83      1159\n",
      "           5       0.98      0.95      0.97      1217\n",
      "           6       0.76      0.67      0.71      1178\n",
      "           7       0.94      0.96      0.95      1215\n",
      "           8       0.97      0.97      0.97      1178\n",
      "           9       0.95      0.96      0.95      1233\n",
      "\n",
      "    accuracy                           0.90     12000\n",
      "   macro avg       0.90      0.90      0.90     12000\n",
      "weighted avg       0.90      0.90      0.90     12000\n",
      "\n"
     ]
    }
   ],
   "source": [
    "print(classification_report(y_test, y_pred))"
   ]
  },
  {
   "cell_type": "markdown",
   "metadata": {},
   "source": [
    "### Bagging"
   ]
  },
  {
   "cell_type": "code",
   "execution_count": 57,
   "metadata": {},
   "outputs": [],
   "source": [
    "bag_clf = BaggingClassifier(\n",
    " DecisionTreeClassifier(), n_estimators=500,\n",
    " max_samples=10000, bootstrap=True, n_jobs=-1)\n",
    "bag_clf.fit(X_train_reduced, y_train)\n",
    "y_pred = bag_clf.predict(X_test_reduced)"
   ]
  },
  {
   "cell_type": "code",
   "execution_count": 58,
   "metadata": {},
   "outputs": [
    {
     "data": {
      "text/plain": [
       "0.8445"
      ]
     },
     "execution_count": 58,
     "metadata": {},
     "output_type": "execute_result"
    }
   ],
   "source": [
    "accuracy_bagging = accuracy_score(y_test, y_pred)\n",
    "accuracy_bagging\n",
    "# only with 10,000 samples the bagging can be compared to the other models.\n",
    "# wuth 1,000 and 100 samples, the score is 0.75+ -> 0.79-"
   ]
  },
  {
   "cell_type": "code",
   "execution_count": 59,
   "metadata": {},
   "outputs": [
    {
     "name": "stdout",
     "output_type": "stream",
     "text": [
      "              precision    recall  f1-score   support\n",
      "\n",
      "           0       0.78      0.84      0.81      1166\n",
      "           1       0.98      0.95      0.96      1213\n",
      "           2       0.76      0.77      0.77      1232\n",
      "           3       0.83      0.87      0.85      1209\n",
      "           4       0.74      0.79      0.76      1159\n",
      "           5       0.91      0.92      0.91      1217\n",
      "           6       0.68      0.54      0.60      1178\n",
      "           7       0.92      0.90      0.91      1215\n",
      "           8       0.93      0.93      0.93      1178\n",
      "           9       0.91      0.93      0.92      1233\n",
      "\n",
      "    accuracy                           0.84     12000\n",
      "   macro avg       0.84      0.84      0.84     12000\n",
      "weighted avg       0.84      0.84      0.84     12000\n",
      "\n"
     ]
    }
   ],
   "source": [
    "print(classification_report(y_test, y_pred))"
   ]
  },
  {
   "cell_type": "markdown",
   "metadata": {},
   "source": [
    "### Bagging with random patch method"
   ]
  },
  {
   "cell_type": "code",
   "execution_count": 60,
   "metadata": {},
   "outputs": [],
   "source": [
    "# check adeqaute number for max_features and why\n",
    "# check if  Random Subspaces method pg 224"
   ]
  },
  {
   "cell_type": "code",
   "execution_count": 61,
   "metadata": {},
   "outputs": [],
   "source": [
    "bag_clf = BaggingClassifier(\n",
    " DecisionTreeClassifier(), n_estimators=500,\n",
    " max_samples=10000, max_features= int(X_train_reduced.shape[1] / 2), bootstrap=True, n_jobs=-1)\n",
    "bag_clf.fit(X_train_reduced, y_train)\n",
    "y_pred = bag_clf.predict(X_test_reduced)"
   ]
  },
  {
   "cell_type": "code",
   "execution_count": 62,
   "metadata": {},
   "outputs": [
    {
     "data": {
      "text/plain": [
       "0.85875"
      ]
     },
     "execution_count": 62,
     "metadata": {},
     "output_type": "execute_result"
    }
   ],
   "source": [
    "accuracy_bagging_random = accuracy_score(y_test, y_pred)\n",
    "accuracy_bagging_random"
   ]
  },
  {
   "cell_type": "code",
   "execution_count": 63,
   "metadata": {},
   "outputs": [
    {
     "name": "stdout",
     "output_type": "stream",
     "text": [
      "              precision    recall  f1-score   support\n",
      "\n",
      "           0       0.79      0.86      0.82      1166\n",
      "           1       0.99      0.95      0.97      1213\n",
      "           2       0.78      0.79      0.79      1232\n",
      "           3       0.85      0.89      0.87      1209\n",
      "           4       0.76      0.81      0.78      1159\n",
      "           5       0.93      0.93      0.93      1217\n",
      "           6       0.70      0.55      0.62      1178\n",
      "           7       0.92      0.91      0.92      1215\n",
      "           8       0.93      0.94      0.94      1178\n",
      "           9       0.91      0.94      0.93      1233\n",
      "\n",
      "    accuracy                           0.86     12000\n",
      "   macro avg       0.86      0.86      0.86     12000\n",
      "weighted avg       0.86      0.86      0.86     12000\n",
      "\n"
     ]
    }
   ],
   "source": [
    "print(classification_report(y_test, y_pred))"
   ]
  },
  {
   "cell_type": "markdown",
   "metadata": {},
   "source": [
    "### Adaboost"
   ]
  },
  {
   "cell_type": "code",
   "execution_count": 65,
   "metadata": {},
   "outputs": [
    {
     "data": {
      "text/plain": [
       "AdaBoostClassifier(base_estimator=DecisionTreeClassifier(max_depth=1),\n",
       "                   learning_rate=0.4, n_estimators=300)"
      ]
     },
     "execution_count": 65,
     "metadata": {},
     "output_type": "execute_result"
    }
   ],
   "source": [
    "ada_clf = AdaBoostClassifier(\n",
    " DecisionTreeClassifier(max_depth=1), n_estimators=300,\n",
    " algorithm=\"SAMME.R\", learning_rate=0.4)\n",
    "ada_clf.fit(X_train_reduced, y_train)"
   ]
  },
  {
   "cell_type": "code",
   "execution_count": 66,
   "metadata": {},
   "outputs": [],
   "source": [
    "y_pred = ada_clf.predict(X_test_reduced)"
   ]
  },
  {
   "cell_type": "code",
   "execution_count": 67,
   "metadata": {},
   "outputs": [],
   "source": [
    "accuracy_adaboost = accuracy_score(y_test, y_pred)"
   ]
  },
  {
   "cell_type": "code",
   "execution_count": 68,
   "metadata": {},
   "outputs": [
    {
     "data": {
      "text/plain": [
       "0.57925"
      ]
     },
     "execution_count": 68,
     "metadata": {},
     "output_type": "execute_result"
    }
   ],
   "source": [
    "accuracy_adaboost"
   ]
  },
  {
   "cell_type": "code",
   "execution_count": 69,
   "metadata": {},
   "outputs": [
    {
     "name": "stdout",
     "output_type": "stream",
     "text": [
      "              precision    recall  f1-score   support\n",
      "\n",
      "           0       0.68      0.17      0.27      1166\n",
      "           1       0.78      0.64      0.70      1213\n",
      "           2       0.43      0.40      0.42      1232\n",
      "           3       0.40      0.86      0.55      1209\n",
      "           4       0.48      0.58      0.52      1159\n",
      "           5       0.69      0.74      0.71      1217\n",
      "           6       0.24      0.13      0.17      1178\n",
      "           7       0.58      0.72      0.64      1215\n",
      "           8       0.83      0.92      0.87      1178\n",
      "           9       0.91      0.61      0.73      1233\n",
      "\n",
      "    accuracy                           0.58     12000\n",
      "   macro avg       0.60      0.58      0.56     12000\n",
      "weighted avg       0.60      0.58      0.56     12000\n",
      "\n"
     ]
    }
   ],
   "source": [
    "print(classification_report(y_test, y_pred))"
   ]
  },
  {
   "cell_type": "markdown",
   "metadata": {},
   "source": [
    "### Xgb"
   ]
  },
  {
   "cell_type": "code",
   "execution_count": 70,
   "metadata": {},
   "outputs": [],
   "source": [
    "xgb=xgboost.XGBClassifier(n_estimators=200,eval_metric='mlogloss')\n",
    "xgb.fit(X_train_reduced,y_train)\n",
    "y_pred = xgb.predict(X_test_reduced)"
   ]
  },
  {
   "cell_type": "code",
   "execution_count": 71,
   "metadata": {},
   "outputs": [
    {
     "data": {
      "text/plain": [
       "0.8866666666666667"
      ]
     },
     "execution_count": 71,
     "metadata": {},
     "output_type": "execute_result"
    }
   ],
   "source": [
    "accuracy_xgb = accuracy_score(y_test, y_pred)\n",
    "accuracy_xgb"
   ]
  },
  {
   "cell_type": "code",
   "execution_count": 72,
   "metadata": {},
   "outputs": [
    {
     "name": "stdout",
     "output_type": "stream",
     "text": [
      "              precision    recall  f1-score   support\n",
      "\n",
      "           0       0.82      0.87      0.84      1166\n",
      "           1       0.99      0.97      0.98      1213\n",
      "           2       0.81      0.80      0.81      1232\n",
      "           3       0.90      0.90      0.90      1209\n",
      "           4       0.79      0.84      0.82      1159\n",
      "           5       0.97      0.95      0.96      1217\n",
      "           6       0.72      0.66      0.69      1178\n",
      "           7       0.93      0.95      0.94      1215\n",
      "           8       0.96      0.96      0.96      1178\n",
      "           9       0.94      0.95      0.95      1233\n",
      "\n",
      "    accuracy                           0.89     12000\n",
      "   macro avg       0.89      0.89      0.89     12000\n",
      "weighted avg       0.89      0.89      0.89     12000\n",
      "\n"
     ]
    }
   ],
   "source": [
    "print(classification_report(y_test, y_pred))"
   ]
  },
  {
   "cell_type": "markdown",
   "metadata": {},
   "source": [
    "### Soft voting with the best models"
   ]
  },
  {
   "cell_type": "code",
   "execution_count": 81,
   "metadata": {},
   "outputs": [],
   "source": [
    "xgb = xgboost.XGBClassifier(n_estimators=300,eval_metric='mlogloss')\n",
    "knn = KNeighborsClassifier(n_neighbors=8)\n",
    "rand_forest= RandomForestClassifier(n_estimators=300, n_jobs=-1, random_state=0, criterion = 'gini', \n",
    "                                   max_features = 'auto')\n",
    "svm_model = svm.SVC(C = 7, gamma = 0.025, kernel = 'rbf',probability = True)\n",
    "\n",
    "voting_clf = VotingClassifier(estimators = [('xg', xgb), ('rf', rand_forest), ('kn', knn), ('sv', svm_model)], voting = 'soft')"
   ]
  },
  {
   "cell_type": "code",
   "execution_count": 82,
   "metadata": {},
   "outputs": [
    {
     "data": {
      "text/plain": [
       "VotingClassifier(estimators=[('xg',\n",
       "                              XGBClassifier(base_score=None, booster=None,\n",
       "                                            callbacks=None,\n",
       "                                            colsample_bylevel=None,\n",
       "                                            colsample_bynode=None,\n",
       "                                            colsample_bytree=None,\n",
       "                                            early_stopping_rounds=None,\n",
       "                                            enable_categorical=False,\n",
       "                                            eval_metric='mlogloss', gamma=None,\n",
       "                                            gpu_id=None, grow_policy=None,\n",
       "                                            importance_type=None,\n",
       "                                            interaction_constraints=None,\n",
       "                                            learning_rate=None, max_bi...\n",
       "                                            min_child_weight=None, missing=nan,\n",
       "                                            monotone_constraints=None,\n",
       "                                            n_estimators=300, n_jobs=None,\n",
       "                                            num_parallel_tree=None,\n",
       "                                            predictor=None, random_state=None,\n",
       "                                            reg_alpha=None, reg_lambda=None, ...)),\n",
       "                             ('rf',\n",
       "                              RandomForestClassifier(n_estimators=300,\n",
       "                                                     n_jobs=-1,\n",
       "                                                     random_state=0)),\n",
       "                             ('kn', KNeighborsClassifier(n_neighbors=8)),\n",
       "                             ('sv', SVC(C=7, gamma=0.025, probability=True))],\n",
       "                 voting='soft')"
      ]
     },
     "execution_count": 82,
     "metadata": {},
     "output_type": "execute_result"
    }
   ],
   "source": [
    "voting_clf.fit(X_train_reduced, y_train)"
   ]
  },
  {
   "cell_type": "code",
   "execution_count": 84,
   "metadata": {},
   "outputs": [
    {
     "data": {
      "text/plain": [
       "0.89775"
      ]
     },
     "execution_count": 84,
     "metadata": {},
     "output_type": "execute_result"
    }
   ],
   "source": [
    "y_pred = voting_clf.predict(X_test_reduced)\n",
    "acuuracy_softVoting_best = accuracy_score(y_test, y_pred)\n",
    "acuuracy_softVoting_best"
   ]
  },
  {
   "cell_type": "code",
   "execution_count": 85,
   "metadata": {},
   "outputs": [
    {
     "name": "stdout",
     "output_type": "stream",
     "text": [
      "              precision    recall  f1-score   support\n",
      "\n",
      "           0       0.83      0.89      0.86      1166\n",
      "           1       1.00      0.98      0.99      1213\n",
      "           2       0.83      0.82      0.82      1232\n",
      "           3       0.91      0.91      0.91      1209\n",
      "           4       0.80      0.86      0.83      1159\n",
      "           5       0.98      0.95      0.97      1217\n",
      "           6       0.76      0.67      0.72      1178\n",
      "           7       0.94      0.96      0.95      1215\n",
      "           8       0.96      0.97      0.96      1178\n",
      "           9       0.95      0.96      0.96      1233\n",
      "\n",
      "    accuracy                           0.90     12000\n",
      "   macro avg       0.90      0.90      0.90     12000\n",
      "weighted avg       0.90      0.90      0.90     12000\n",
      "\n"
     ]
    }
   ],
   "source": [
    "print(classification_report(y_test, y_pred))"
   ]
  },
  {
   "cell_type": "markdown",
   "metadata": {},
   "source": [
    "### Final model"
   ]
  },
  {
   "cell_type": "code",
   "execution_count": 76,
   "metadata": {},
   "outputs": [],
   "source": [
    "xgb = xgboost.XGBClassifier(n_estimators=200,eval_metric='mlogloss')\n",
    "knn = KNeighborsClassifier(n_neighbors=8)\n",
    "rand_forest= RandomForestClassifier(n_estimators=300, n_jobs=-1, random_state=0, criterion = 'gini', \n",
    "                                   max_features = 'auto')\n",
    "svm_model = svm.SVC(C = 7, gamma = 0.025, kernel = 'rbf', probability = True)\n",
    "voting_clf = VotingClassifier(estimators = [('xg', xgb), ('rf', rand_forest), ('kn', knn), ('sv', svm_model)], voting = 'soft')"
   ]
  },
  {
   "cell_type": "code",
   "execution_count": 77,
   "metadata": {},
   "outputs": [
    {
     "data": {
      "text/plain": [
       "VotingClassifier(estimators=[('xg',\n",
       "                              XGBClassifier(base_score=None, booster=None,\n",
       "                                            callbacks=None,\n",
       "                                            colsample_bylevel=None,\n",
       "                                            colsample_bynode=None,\n",
       "                                            colsample_bytree=None,\n",
       "                                            early_stopping_rounds=None,\n",
       "                                            enable_categorical=False,\n",
       "                                            eval_metric='mlogloss', gamma=None,\n",
       "                                            gpu_id=None, grow_policy=None,\n",
       "                                            importance_type=None,\n",
       "                                            interaction_constraints=None,\n",
       "                                            learning_rate=None, max_bi...\n",
       "                                            min_child_weight=None, missing=nan,\n",
       "                                            monotone_constraints=None,\n",
       "                                            n_estimators=200, n_jobs=None,\n",
       "                                            num_parallel_tree=None,\n",
       "                                            predictor=None, random_state=None,\n",
       "                                            reg_alpha=None, reg_lambda=None, ...)),\n",
       "                             ('rf',\n",
       "                              RandomForestClassifier(n_estimators=300,\n",
       "                                                     n_jobs=-1,\n",
       "                                                     random_state=0)),\n",
       "                             ('kn', KNeighborsClassifier(n_neighbors=8)),\n",
       "                             ('sv', SVC(C=7, gamma=0.025, probability=True))],\n",
       "                 voting='soft')"
      ]
     },
     "execution_count": 77,
     "metadata": {},
     "output_type": "execute_result"
    }
   ],
   "source": [
    "voting_clf.fit(X_train_reduced, y_train)"
   ]
  },
  {
   "cell_type": "code",
   "execution_count": 78,
   "metadata": {},
   "outputs": [
    {
     "data": {
      "text/plain": [
       "0.889"
      ]
     },
     "execution_count": 78,
     "metadata": {},
     "output_type": "execute_result"
    }
   ],
   "source": [
    "y_pred = voting_clf.predict(X_test_reduced_final)\n",
    "voting_score = accuracy_score(y_test_final, y_pred)\n",
    "voting_score"
   ]
  },
  {
   "cell_type": "code",
   "execution_count": 80,
   "metadata": {},
   "outputs": [
    {
     "name": "stdout",
     "output_type": "stream",
     "text": [
      "              precision    recall  f1-score   support\n",
      "\n",
      "           0       0.83      0.87      0.85      1000\n",
      "           1       0.99      0.97      0.98      1000\n",
      "           2       0.80      0.81      0.81      1000\n",
      "           3       0.90      0.90      0.90      1000\n",
      "           4       0.81      0.83      0.82      1000\n",
      "           5       0.98      0.95      0.96      1000\n",
      "           6       0.73      0.67      0.70      1000\n",
      "           7       0.93      0.96      0.95      1000\n",
      "           8       0.96      0.98      0.97      1000\n",
      "           9       0.95      0.96      0.96      1000\n",
      "\n",
      "    accuracy                           0.89     10000\n",
      "   macro avg       0.89      0.89      0.89     10000\n",
      "weighted avg       0.89      0.89      0.89     10000\n",
      "\n"
     ]
    }
   ],
   "source": [
    "print(classification_report(y_test_final, y_pred))"
   ]
  },
  {
   "cell_type": "code",
   "execution_count": 99,
   "metadata": {},
   "outputs": [
    {
     "data": {
      "image/png": "[encoded data removed]",
      "text/plain": [
       "<Figure size 1440x576 with 1 Axes>"
      ]
     },
     "metadata": {
      "needs_background": "light"
     },
     "output_type": "display_data"
    }
   ],
   "source": [
    "accArr = [accuracy_dummy, accuracy_knn, accuracy_rand_forest, accuracy_svm, accuracy_hardVoting, accuracy_softVoting, \n",
    "          accuracy_bagging,accuracy_bagging_random, accuracy_adaboost, accuracy_xgb, acuuracy_softVoting_best,\n",
    "                ]\n",
    "fig = plt.figure(figsize=(20,8))\n",
    "labels = ['Dummy','KNN', 'Random Forest','SVM','Hard Voting', 'softVoting','Bagging','Bagging random patch', 'Adaboost'\n",
    "         , 'Xgb', 'Best softVoting']\n",
    "sns.barplot(x=labels, y=accArr)\n",
    "plt.ylabel('Accuracy')\n",
    "plt.xlabel('Models')\n",
    "plt.title('Accuracy of the models');"
   ]
  },
  {
   "cell_type": "code",
   "execution_count": null,
   "metadata": {},
   "outputs": [],
   "source": []
  },
  {
   "cell_type": "code",
   "execution_count": null,
   "metadata": {},
   "outputs": [],
   "source": []
  }
 ],
 "metadata": {
  "kernelspec": {
   "display_name": "Python 3",
   "language": "python",
   "name": "python3"
  },
  "language_info": {
   "codemirror_mode": {
    "name": "ipython",
    "version": 3
   },
   "file_extension": ".py",
   "mimetype": "text/x-python",
   "name": "python",
   "nbconvert_exporter": "python",
   "pygments_lexer": "ipython3",
   "version": "3.8.5"
  }
 },
 "nbformat": 4,
 "nbformat_minor": 4
}
