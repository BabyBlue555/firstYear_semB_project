{
 "cells": [
  {
   "cell_type": "code",
   "execution_count": 46,
   "id": "ee8e54f8",
   "metadata": {},
   "outputs": [],
   "source": [
    "import pandas as pd"
   ]
  },
  {
   "cell_type": "code",
   "execution_count": 47,
   "id": "8621b409",
   "metadata": {},
   "outputs": [],
   "source": [
    "import matplotlib.pyplot as plt\n",
    "import numpy as np"
   ]
  },
  {
   "cell_type": "code",
   "execution_count": 48,
   "id": "a00c1293",
   "metadata": {},
   "outputs": [],
   "source": [
    "# numbers of folders : 14"
   ]
  },
  {
   "cell_type": "markdown",
   "id": "4ba40ee6",
   "metadata": {},
   "source": [
    "we will import all the dataframes from the 14 folders and then make a dataframe for each of the folders.\n",
    "but berofre. here's a simple example of one of the dataframes from folder 7554:"
   ]
  },
  {
   "cell_type": "code",
   "execution_count": 49,
   "id": "940bcd84",
   "metadata": {},
   "outputs": [],
   "source": [
    "f = open(\"task4_train/7554/SimpleTest/1.csv\")"
   ]
  },
  {
   "cell_type": "code",
   "execution_count": 50,
   "id": "37c88b66",
   "metadata": {},
   "outputs": [],
   "source": [
    "df=pd.read_csv(f)"
   ]
  },
  {
   "cell_type": "code",
   "execution_count": 51,
   "id": "2661fd6a",
   "metadata": {},
   "outputs": [],
   "source": [
    "df=df.dropna()"
   ]
  },
  {
   "cell_type": "code",
   "execution_count": 52,
   "id": "f51971f9",
   "metadata": {
    "scrolled": true
   },
   "outputs": [
    {
     "data": {
      "text/html": [
       "<div>\n",
       "<style scoped>\n",
       "    .dataframe tbody tr th:only-of-type {\n",
       "        vertical-align: middle;\n",
       "    }\n",
       "\n",
       "    .dataframe tbody tr th {\n",
       "        vertical-align: top;\n",
       "    }\n",
       "\n",
       "    .dataframe thead th {\n",
       "        text-align: right;\n",
       "    }\n",
       "</style>\n",
       "<table border=\"1\" class=\"dataframe\">\n",
       "  <thead>\n",
       "    <tr style=\"text-align: right;\">\n",
       "      <th></th>\n",
       "      <th>X</th>\n",
       "      <th>Y</th>\n",
       "      <th>Pressure</th>\n",
       "      <th>TiltX</th>\n",
       "      <th>TiltY</th>\n",
       "      <th>Time</th>\n",
       "    </tr>\n",
       "  </thead>\n",
       "  <tbody>\n",
       "    <tr>\n",
       "      <th>0</th>\n",
       "      <td>925.902760133965</td>\n",
       "      <td>665.541979</td>\n",
       "      <td>0.045884</td>\n",
       "      <td>-4917.0</td>\n",
       "      <td>669.0</td>\n",
       "      <td>00:12.6099853</td>\n",
       "    </tr>\n",
       "    <tr>\n",
       "      <th>1</th>\n",
       "      <td>925.902760133965</td>\n",
       "      <td>665.541979</td>\n",
       "      <td>0.045884</td>\n",
       "      <td>-4917.0</td>\n",
       "      <td>669.0</td>\n",
       "      <td>00:12.6256038</td>\n",
       "    </tr>\n",
       "    <tr>\n",
       "      <th>2</th>\n",
       "      <td>926.692689687031</td>\n",
       "      <td>665.647303</td>\n",
       "      <td>0.082506</td>\n",
       "      <td>-4917.0</td>\n",
       "      <td>669.0</td>\n",
       "      <td>00:12.6445684</td>\n",
       "    </tr>\n",
       "    <tr>\n",
       "      <th>3</th>\n",
       "      <td>927.008661508257</td>\n",
       "      <td>665.647303</td>\n",
       "      <td>0.115953</td>\n",
       "      <td>-4917.0</td>\n",
       "      <td>669.0</td>\n",
       "      <td>00:12.6602735</td>\n",
       "    </tr>\n",
       "    <tr>\n",
       "      <th>4</th>\n",
       "      <td>927.324633329484</td>\n",
       "      <td>665.594641</td>\n",
       "      <td>0.140368</td>\n",
       "      <td>-4917.0</td>\n",
       "      <td>669.0</td>\n",
       "      <td>00:12.6838147</td>\n",
       "    </tr>\n",
       "    <tr>\n",
       "      <th>...</th>\n",
       "      <td>...</td>\n",
       "      <td>...</td>\n",
       "      <td>...</td>\n",
       "      <td>...</td>\n",
       "      <td>...</td>\n",
       "      <td>...</td>\n",
       "    </tr>\n",
       "    <tr>\n",
       "      <th>127</th>\n",
       "      <td>585.495784732648</td>\n",
       "      <td>647.004966</td>\n",
       "      <td>0.378408</td>\n",
       "      <td>-4510.0</td>\n",
       "      <td>1946.0</td>\n",
       "      <td>00:14.0316787</td>\n",
       "    </tr>\n",
       "    <tr>\n",
       "      <th>128</th>\n",
       "      <td>584.863841090195</td>\n",
       "      <td>646.846980</td>\n",
       "      <td>0.382803</td>\n",
       "      <td>-4510.0</td>\n",
       "      <td>1946.0</td>\n",
       "      <td>00:14.0472865</td>\n",
       "    </tr>\n",
       "    <tr>\n",
       "      <th>129</th>\n",
       "      <td>584.863841090195</td>\n",
       "      <td>646.846980</td>\n",
       "      <td>0.386954</td>\n",
       "      <td>-4510.0</td>\n",
       "      <td>1946.0</td>\n",
       "      <td>00:14.0629098</td>\n",
       "    </tr>\n",
       "    <tr>\n",
       "      <th>130</th>\n",
       "      <td>584.653193209377</td>\n",
       "      <td>646.741656</td>\n",
       "      <td>0.386954</td>\n",
       "      <td>-4501.0</td>\n",
       "      <td>1991.0</td>\n",
       "      <td>00:14.0785335</td>\n",
       "    </tr>\n",
       "    <tr>\n",
       "      <th>131</th>\n",
       "      <td>584.653193209377</td>\n",
       "      <td>646.741656</td>\n",
       "      <td>0.389151</td>\n",
       "      <td>-4501.0</td>\n",
       "      <td>1991.0</td>\n",
       "      <td>00:14.0941464</td>\n",
       "    </tr>\n",
       "  </tbody>\n",
       "</table>\n",
       "<p>132 rows × 6 columns</p>\n",
       "</div>"
      ],
      "text/plain": [
       "                    X           Y   Pressure   TiltX   TiltY           Time\n",
       "0    925.902760133965  665.541979   0.045884 -4917.0   669.0  00:12.6099853\n",
       "1    925.902760133965  665.541979   0.045884 -4917.0   669.0  00:12.6256038\n",
       "2    926.692689687031  665.647303   0.082506 -4917.0   669.0  00:12.6445684\n",
       "3    927.008661508257  665.647303   0.115953 -4917.0   669.0  00:12.6602735\n",
       "4    927.324633329484  665.594641   0.140368 -4917.0   669.0  00:12.6838147\n",
       "..                ...         ...        ...     ...     ...            ...\n",
       "127  585.495784732648  647.004966   0.378408 -4510.0  1946.0  00:14.0316787\n",
       "128  584.863841090195  646.846980   0.382803 -4510.0  1946.0  00:14.0472865\n",
       "129  584.863841090195  646.846980   0.386954 -4510.0  1946.0  00:14.0629098\n",
       "130  584.653193209377  646.741656   0.386954 -4501.0  1991.0  00:14.0785335\n",
       "131  584.653193209377  646.741656   0.389151 -4501.0  1991.0  00:14.0941464\n",
       "\n",
       "[132 rows x 6 columns]"
      ]
     },
     "execution_count": 52,
     "metadata": {},
     "output_type": "execute_result"
    }
   ],
   "source": [
    "df"
   ]
  },
  {
   "cell_type": "code",
   "execution_count": 53,
   "id": "2e7f2a32",
   "metadata": {},
   "outputs": [
    {
     "ename": "NameError",
     "evalue": "name 'df_time' is not defined",
     "output_type": "error",
     "traceback": [
      "\u001b[1;31m---------------------------------------------------------------------------\u001b[0m",
      "\u001b[1;31mNameError\u001b[0m                                 Traceback (most recent call last)",
      "\u001b[1;32m~\\AppData\\Local\\Temp/ipykernel_70344/3279322035.py\u001b[0m in \u001b[0;36m<module>\u001b[1;34m\u001b[0m\n\u001b[1;32m----> 1\u001b[1;33m \u001b[0mdf_time\u001b[0m\u001b[1;33m\u001b[0m\u001b[1;33m\u001b[0m\u001b[0m\n\u001b[0m",
      "\u001b[1;31mNameError\u001b[0m: name 'df_time' is not defined"
     ]
    }
   ],
   "source": [
    "df_time"
   ]
  },
  {
   "cell_type": "code",
   "execution_count": 54,
   "id": "dd450b99",
   "metadata": {},
   "outputs": [],
   "source": [
    "# df_time = pd.DataFrame()\n",
    "        "
   ]
  },
  {
   "cell_type": "code",
   "execution_count": 55,
   "id": "96226633",
   "metadata": {},
   "outputs": [],
   "source": [
    "# time= df[' Time'].copy().to_frame()"
   ]
  },
  {
   "cell_type": "code",
   "execution_count": 56,
   "id": "84a485ca",
   "metadata": {},
   "outputs": [],
   "source": [
    "# df_time['time']=time"
   ]
  },
  {
   "cell_type": "code",
   "execution_count": 57,
   "id": "83109c26",
   "metadata": {},
   "outputs": [],
   "source": [
    "# df_time"
   ]
  },
  {
   "cell_type": "code",
   "execution_count": 58,
   "id": "b6e8e8df",
   "metadata": {},
   "outputs": [],
   "source": [
    "# df_time['time_shift']=time.shift(periods = 1)"
   ]
  },
  {
   "cell_type": "markdown",
   "id": "74634654",
   "metadata": {},
   "source": [
    "# לשים לב לא לשכוח לשים את הפונקציה convert_to_str לפני הקריאה!"
   ]
  },
  {
   "cell_type": "code",
   "execution_count": null,
   "id": "45438120",
   "metadata": {},
   "outputs": [],
   "source": []
  },
  {
   "cell_type": "markdown",
   "id": "f712c91b",
   "metadata": {},
   "source": [
    "\n",
    "# convert to date time function"
   ]
  },
  {
   "cell_type": "code",
   "execution_count": 69,
   "id": "c12b57be",
   "metadata": {},
   "outputs": [],
   "source": [
    "\n",
    "\n",
    "def convert_to_float(df,col_name):\n",
    "        i=0\n",
    "        ser_float = pd.Series(dtype=float,index=df.index) \n",
    "        for time_sample in df[col_name]:\n",
    "#             x = float('nan')\n",
    "            check=pd.isnull(time_sample)\n",
    "            if( check ):\n",
    "                ser_float[i]=float('NaN')\n",
    "                i=i+1\n",
    "                continue\n",
    "#             time_sample=pd.to_datetime(time_sample)\n",
    "            else:\n",
    "                str_time=str(time_sample) # in order to slice\n",
    "                arr=str_time.split(sep=':') \n",
    "#                 print(arr)\n",
    "                float_time=float(arr[1])\n",
    "#                 print(float_time) # for checking    \n",
    "                ser_float[i]=float_time\n",
    "                i=i+1\n",
    "        df[col_name]=ser_float \n",
    "        \n",
    "        \n",
    "\n",
    "#         df[col_name]=ser_str\n",
    "        return df[col_name]\n",
    "        "
   ]
  },
  {
   "cell_type": "code",
   "execution_count": 70,
   "id": "0bf1e793",
   "metadata": {},
   "outputs": [],
   "source": [
    "# df_time['time']=convert_to_float(df_time,'time')"
   ]
  },
  {
   "cell_type": "code",
   "execution_count": 71,
   "id": "1435abab",
   "metadata": {},
   "outputs": [],
   "source": [
    "# df_time['time']"
   ]
  },
  {
   "cell_type": "code",
   "execution_count": 72,
   "id": "15056294",
   "metadata": {},
   "outputs": [],
   "source": [
    "# df_time['time_shift']=convert_to_float(df_time,'time_shift')"
   ]
  },
  {
   "cell_type": "code",
   "execution_count": 73,
   "id": "6d191537",
   "metadata": {},
   "outputs": [],
   "source": [
    "# df_time['time_shift']"
   ]
  },
  {
   "cell_type": "code",
   "execution_count": 74,
   "id": "0479b159",
   "metadata": {},
   "outputs": [],
   "source": [
    "# df_time[\"Diff\"]=df_time['time'].sub(df_time['time_shift'])\n",
    "#aapl[\"Diff\"] = aapl.AAPL.sub(aapl.lag1)"
   ]
  },
  {
   "cell_type": "code",
   "execution_count": 75,
   "id": "ea8f1434",
   "metadata": {},
   "outputs": [],
   "source": [
    "# building a new function with columns time, shift_time and diff - the difference between the two other columns\n",
    "def build_time_df(df):\n",
    "    df_time = pd.DataFrame()\n",
    "    df_time['time']= df[' Time'].copy().to_frame()\n",
    "    df_time['time_shift']=df_time['time'].shift(periods = 1)\n",
    "#     print(df_time)\n",
    "    df_time['time']=convert_to_float(df_time,'time')\n",
    "    df_time['time_shift']=convert_to_float(df_time,'time_shift')\n",
    "    df_time['Diff']=df_time['time'].sub(df_time['time_shift'])\n",
    "#     print(df_time)\n",
    "    return df_time['Diff']"
   ]
  },
  {
   "cell_type": "code",
   "execution_count": 76,
   "id": "0a679d85",
   "metadata": {},
   "outputs": [],
   "source": [
    "d=build_time_df(df)"
   ]
  },
  {
   "cell_type": "code",
   "execution_count": 77,
   "id": "714d3c4c",
   "metadata": {},
   "outputs": [],
   "source": [
    "# ACCURATE\n",
    "# check how many time differences are bigger than 0.04 - if it's bigger , it's a hand raise , because the time that takes for a human hand to raise hand can't be less than 0.04 nano seconds. \n",
    "def count_raise_hand(num_folder):\n",
    "    count=0\n",
    "    for num_table in range (1,21):\n",
    "        f= open('task4_train'+'/'+num_folder+'/SimpleTest/'+str(num_table)+'.csv')\n",
    "        df=pd.read_csv(f)\n",
    "#         print(df)\n",
    "     \n",
    "        df_time_diff=build_time_df(df)\n",
    "        for diff in df_time_diff:\n",
    "            if(diff>=4):\n",
    "                count=count+1\n",
    "        print(\"data frame number\"+str(num_table))\n",
    "        print(\"this is the number of hand raising in the df:\")\n",
    "        print(count)"
   ]
  },
  {
   "cell_type": "code",
   "execution_count": 78,
   "id": "5df9d3d8",
   "metadata": {},
   "outputs": [
    {
     "name": "stdout",
     "output_type": "stream",
     "text": [
      "data frame number1\n",
      "this is the number of hand raising in the df:\n",
      "0\n",
      "data frame number2\n",
      "this is the number of hand raising in the df:\n",
      "0\n",
      "data frame number3\n",
      "this is the number of hand raising in the df:\n",
      "0\n",
      "data frame number4\n",
      "this is the number of hand raising in the df:\n",
      "0\n",
      "data frame number5\n",
      "this is the number of hand raising in the df:\n",
      "1\n",
      "data frame number6\n",
      "this is the number of hand raising in the df:\n",
      "1\n",
      "data frame number7\n",
      "this is the number of hand raising in the df:\n",
      "1\n",
      "data frame number8\n",
      "this is the number of hand raising in the df:\n",
      "1\n",
      "data frame number9\n",
      "this is the number of hand raising in the df:\n",
      "1\n",
      "data frame number10\n",
      "this is the number of hand raising in the df:\n",
      "2\n",
      "data frame number11\n",
      "this is the number of hand raising in the df:\n",
      "2\n",
      "data frame number12\n",
      "this is the number of hand raising in the df:\n",
      "2\n",
      "data frame number13\n",
      "this is the number of hand raising in the df:\n",
      "3\n",
      "data frame number14\n",
      "this is the number of hand raising in the df:\n",
      "3\n",
      "data frame number15\n",
      "this is the number of hand raising in the df:\n",
      "3\n",
      "data frame number16\n",
      "this is the number of hand raising in the df:\n",
      "5\n",
      "data frame number17\n",
      "this is the number of hand raising in the df:\n",
      "6\n",
      "data frame number18\n",
      "this is the number of hand raising in the df:\n",
      "6\n",
      "data frame number19\n",
      "this is the number of hand raising in the df:\n",
      "8\n",
      "data frame number20\n",
      "this is the number of hand raising in the df:\n",
      "8\n"
     ]
    }
   ],
   "source": [
    "count_raise_hand('7554')"
   ]
  },
  {
   "cell_type": "markdown",
   "id": "2c4ed2b0",
   "metadata": {},
   "source": [
    "# OLD"
   ]
  },
  {
   "cell_type": "markdown",
   "id": "c6582359",
   "metadata": {},
   "source": [
    "our goal: to convert the data in time column to datetime64.\n",
    "\n",
    "we will first convert it to datetime and then convert it to a string in rder to slice the year,month and day. and then, we will convert it back to datetime."
   ]
  },
  {
   "cell_type": "code",
   "execution_count": null,
   "id": "968b24ad",
   "metadata": {},
   "outputs": [],
   "source": []
  },
  {
   "cell_type": "code",
   "execution_count": null,
   "id": "f328becc",
   "metadata": {},
   "outputs": [],
   "source": [
    "df[' Time']=pd.to_datetime(df[' Time'])\n",
    "#pd.to_datetime([min(df[' Time']), max(df[' Time'])])"
   ]
  },
  {
   "cell_type": "code",
   "execution_count": null,
   "id": "db4cd9e8",
   "metadata": {},
   "outputs": [],
   "source": [
    "str_time=str(df[' Time'][1])"
   ]
  },
  {
   "cell_type": "code",
   "execution_count": null,
   "id": "aea3f39c",
   "metadata": {},
   "outputs": [],
   "source": [
    "# to find the index of \" \" in order to split the str and take only the half we need v- the nano seconds\n",
    "# index=str_time.find(' ') not needed\n",
    "arr=str_time.split(sep=' ')\n",
    "str_time=arr[1]"
   ]
  },
  {
   "cell_type": "code",
   "execution_count": null,
   "id": "ee8a76c9",
   "metadata": {
    "scrolled": true
   },
   "outputs": [],
   "source": [
    "str_time # now that we know how to do it, we will use it when we will work with all the tables"
   ]
  },
  {
   "cell_type": "code",
   "execution_count": null,
   "id": "242f5b55",
   "metadata": {},
   "outputs": [],
   "source": [
    "################################### deleted the main function here"
   ]
  },
  {
   "cell_type": "code",
   "execution_count": null,
   "id": "c535d9fa",
   "metadata": {},
   "outputs": [],
   "source": [
    "convert_to_float(df,' Time')"
   ]
  },
  {
   "cell_type": "code",
   "execution_count": null,
   "id": "260377ea",
   "metadata": {},
   "outputs": [],
   "source": [
    "df[' Time']"
   ]
  },
  {
   "cell_type": "code",
   "execution_count": null,
   "id": "2dd28aa5",
   "metadata": {},
   "outputs": [],
   "source": []
  },
  {
   "cell_type": "code",
   "execution_count": null,
   "id": "de763416",
   "metadata": {},
   "outputs": [],
   "source": [
    "df"
   ]
  },
  {
   "cell_type": "code",
   "execution_count": null,
   "id": "15783041",
   "metadata": {},
   "outputs": [],
   "source": [
    "df_time.index"
   ]
  },
  {
   "cell_type": "code",
   "execution_count": null,
   "id": "9afafc32",
   "metadata": {},
   "outputs": [],
   "source": [
    "df"
   ]
  },
  {
   "cell_type": "code",
   "execution_count": null,
   "id": "3faa53cf",
   "metadata": {},
   "outputs": [],
   "source": [
    "df[' Time'][1]"
   ]
  },
  {
   "cell_type": "code",
   "execution_count": null,
   "id": "64260ade",
   "metadata": {},
   "outputs": [],
   "source": [
    "for i in df[' Time']:\n",
    "    print(i)"
   ]
  },
  {
   "cell_type": "code",
   "execution_count": null,
   "id": "a7f8e1fa",
   "metadata": {},
   "outputs": [],
   "source": [
    "def convert_to_str_check(df):\n",
    "    i=0\n",
    "    for time in df[' Time']:\n",
    "        \n",
    "        time=str(time) # in order to slice the year month day\n",
    "        arr=time.split(sep=' ')\n",
    "        time=arr[1]\n",
    "        print(time) # for checking\n",
    "        df[' Time'][i]=time\n",
    "        i=i+1\n",
    "    return df[' Time']\n",
    "        "
   ]
  },
  {
   "cell_type": "code",
   "execution_count": null,
   "id": "630d8cbc",
   "metadata": {},
   "outputs": [],
   "source": [
    "convert_to_str_check(df)"
   ]
  },
  {
   "cell_type": "code",
   "execution_count": null,
   "id": "4879a16e",
   "metadata": {},
   "outputs": [],
   "source": [
    "df['Time_Test_datetime']=pd.to_datetime(df[' Time'])\n",
    "# call the func\n",
    "# df['Time_Test']=df[' Time']\n",
    "df['Time_Test_str']=convert_to_str(df)\n",
    "df"
   ]
  },
  {
   "cell_type": "code",
   "execution_count": null,
   "id": "b400329a",
   "metadata": {},
   "outputs": [],
   "source": [
    "#d=pd.date_range(start = df[' Time'][0], end=df[' Time'][len(df)-1] )"
   ]
  },
  {
   "cell_type": "markdown",
   "id": "e99f7c4b",
   "metadata": {},
   "source": [
    "## in order to know how to handle the data:\n",
    "    "
   ]
  },
  {
   "cell_type": "code",
   "execution_count": null,
   "id": "9c32f16f",
   "metadata": {},
   "outputs": [],
   "source": [
    "df.dtypes"
   ]
  },
  {
   "cell_type": "code",
   "execution_count": null,
   "id": "63851ed9",
   "metadata": {},
   "outputs": [],
   "source": [
    "# change the data of columns from str to int\n",
    "df['X']=df['X'].astype(float)\n",
    "df[' Y']=df[' Y'].astype(float)"
   ]
  },
  {
   "cell_type": "code",
   "execution_count": null,
   "id": "e6980e82",
   "metadata": {},
   "outputs": [],
   "source": [
    "df.columns"
   ]
  },
  {
   "cell_type": "code",
   "execution_count": null,
   "id": "1882c06d",
   "metadata": {},
   "outputs": [],
   "source": [
    "df"
   ]
  },
  {
   "cell_type": "code",
   "execution_count": null,
   "id": "658f5d0f",
   "metadata": {},
   "outputs": [],
   "source": [
    "max(df['X'])"
   ]
  },
  {
   "cell_type": "code",
   "execution_count": null,
   "id": "b022e6cf",
   "metadata": {},
   "outputs": [],
   "source": [
    "min(df[' Pressure'])"
   ]
  },
  {
   "cell_type": "code",
   "execution_count": null,
   "id": "e50012ad",
   "metadata": {},
   "outputs": [],
   "source": []
  },
  {
   "cell_type": "code",
   "execution_count": null,
   "id": "633157f5",
   "metadata": {
    "scrolled": true
   },
   "outputs": [],
   "source": [
    "\n",
    "# in order to see the image from afar, i.e the whole drawing, we need to put limits\n",
    "plt.xlim(min(df['X'])-100,max(df['X'])+100)\n",
    "plt.ylim(min(df[' Y'])-100,max(df[' Y'])+100)\n",
    "plt.plot(df['X'],df[' Y'])\n",
    "# plt.scatter(df['X'],df[' Y'],df[' Time'])\n",
    "plt.show()"
   ]
  },
  {
   "cell_type": "code",
   "execution_count": null,
   "id": "c55d0af6",
   "metadata": {},
   "outputs": [],
   "source": [
    "plt.xlim(min(df['X'])-100,max(df['X'])+100)\n",
    "plt.ylim(min(df[' Y'])-100,max(df[' Y'])+100)\n",
    "plt.scatter(df['X'],df[' Y'])\n",
    "# plt.scatter(df['X'],df[' Y'],df[' Time'])\n",
    "plt.show()"
   ]
  },
  {
   "cell_type": "code",
   "execution_count": null,
   "id": "a0a23c6a",
   "metadata": {},
   "outputs": [],
   "source": [
    "# x = df['X']\n",
    "# y = df[' Y']\n",
    "\n",
    "# fig = plt.figure()\n",
    "# plt.xlim(float(df['X'].min())-100 , float(df['X'].max()) + 100)\n",
    "# plt.ylim(float(df[' Y'].min())-100 , float(df[' Y'].max()) + 100)\n",
    "# graph, = plt.plot([], [], 'o' ,markersize=8)\n",
    "# plt.gca().invert_yaxis()\n",
    "# def animate(i):\n",
    "#     graph.set_data(x[:i+1], y[:i+1])\n",
    "#     return graph\n",
    "\n",
    "# ani = FuncAnimation(\n",
    "# fig, animate, frames=len(df), interval=10)\n",
    "# plt.show()"
   ]
  },
  {
   "cell_type": "code",
   "execution_count": null,
   "id": "77f38252",
   "metadata": {
    "scrolled": true
   },
   "outputs": [],
   "source": [
    "# plt.xlim(min(df['X'])-100,max(df['X'])+100)\n",
    "# plt.ylim(min(df[' Time'])-100,max(df[' Time'])+100)\n",
    "# # plt.plot(df['X'],df[' Y'])\n",
    "\n",
    "# plt.scatter(df['X'],df[' Time'])\n",
    "\n",
    "# plt.show()\n",
    "\n"
   ]
  },
  {
   "cell_type": "code",
   "execution_count": null,
   "id": "60877554",
   "metadata": {},
   "outputs": [],
   "source": [
    "# plt.scatter(df[' Y'],df[' Time'])\n",
    "# # plt.scatter(df['X'],df[' Y'],df[' Time'])\n",
    "# plt.show()\n"
   ]
  },
  {
   "cell_type": "code",
   "execution_count": null,
   "id": "7bbf6401",
   "metadata": {},
   "outputs": [],
   "source": [
    "l=df['X'].min()"
   ]
  },
  {
   "cell_type": "code",
   "execution_count": null,
   "id": "4e2b134b",
   "metadata": {},
   "outputs": [],
   "source": [
    "float(l)"
   ]
  },
  {
   "cell_type": "code",
   "execution_count": null,
   "id": "a2757a4f",
   "metadata": {},
   "outputs": [],
   "source": [
    "# function that imports each table from a specific folder and creates a data frame for each folder\n",
    "def import_tables(num_folder):\n",
    "    main_df = {}\n",
    "    for num_table in range (1,22):\n",
    "        \n",
    "        \n",
    "#        print(\"table number:\",num_table)\n",
    "        print()\n",
    "        f= open('task4_train'+'/'+num_folder+'/SimpleTest/'+str(num_table)+'.csv')\n",
    "        df=pd.read_csv(f)\n",
    "        df=df.dropna() # taking care of null values\n",
    "        tempx=df['X']\n",
    "        tempy=df[' Y']\n",
    "        main_df[num_table]=df\n",
    "        print()\n",
    "        \n",
    "\n",
    "    return main_df\n",
    "    \n",
    " #   ax.set(xlim=(xmin, xmax), ylim=(ymin, ymax))"
   ]
  },
  {
   "cell_type": "code",
   "execution_count": null,
   "id": "64ea4bb4",
   "metadata": {},
   "outputs": [],
   "source": [
    "df1=import_tables('7554') # change name to folders\n",
    "df2=import_tables('7556')\n",
    "df3=import_tables('7557')\n",
    "df4=import_tables('7558')\n",
    "df5=import_tables('7559')\n",
    "df6=import_tables('7560')\n",
    "df7=import_tables('7561')\n",
    "df8=import_tables('7563')\n",
    "df9=import_tables('7569')\n",
    "df10=import_tables('7570')\n",
    "df11=import_tables('7571')\n",
    "df12=import_tables('7572')\n",
    "df13=import_tables('7573')\n",
    "df14=import_tables('7574')"
   ]
  },
  {
   "cell_type": "code",
   "execution_count": null,
   "id": "1eaa405b",
   "metadata": {},
   "outputs": [],
   "source": [
    "df7[1][' Pressure'].min()"
   ]
  },
  {
   "cell_type": "code",
   "execution_count": null,
   "id": "148a67f9",
   "metadata": {},
   "outputs": [],
   "source": [
    "df1[1]"
   ]
  },
  {
   "cell_type": "code",
   "execution_count": null,
   "id": "9f2fcae2",
   "metadata": {},
   "outputs": [],
   "source": [
    "df8"
   ]
  },
  {
   "cell_type": "code",
   "execution_count": null,
   "id": "cf463a81",
   "metadata": {},
   "outputs": [],
   "source": [
    "# function for visualisation of each table in the specific folder\n",
    "def show_draw(num_folder):\n",
    "    for num_table in range (1,21):\n",
    "        print()\n",
    "        print(\"table number:\",num_table)\n",
    "        print()\n",
    "        f= open('task4_train'+'/'+num_folder+'/SimpleTest/'+str(num_table)+'.csv')\n",
    "        df=pd.read_csv(f)\n",
    "        df=df.dropna()\n",
    "#         tempx=df['X']\n",
    "#         tempy=df[' Y']\n",
    "#         change data from str to float\n",
    "        df['X']=df['X'].astype(float)\n",
    "        df[' Y']=df[' Y'].astype(float)\n",
    "        plt.xlim(min(df['X'])-100,max(df['X'])+100)\n",
    "        plt.ylim(min(df[' Y'])-100,max(df[' Y'])+100)\n",
    "        plt.scatter(df['X'],df[' Y'])\n",
    "#         plt.scatter(tempx,tempy)\n",
    "    \n",
    "        plt.show()\n",
    "        print(df)\n",
    "\n",
    "    \n",
    " #   ax.set(xlim=(xmin, xmax), ylim=(ymin, ymax))"
   ]
  },
  {
   "cell_type": "code",
   "execution_count": null,
   "id": "62cfce52",
   "metadata": {
    "scrolled": false
   },
   "outputs": [],
   "source": [
    "show_draw('7554')\n",
    "# show_draw('7556')\n",
    "# show_draw('7557')\n",
    "# show_draw('7558')\n",
    "# show_draw('7559')\n"
   ]
  },
  {
   "cell_type": "markdown",
   "id": "6ee524b6",
   "metadata": {},
   "source": [
    "Strating to build the algorytm:"
   ]
  },
  {
   "cell_type": "markdown",
   "id": "6ee249da",
   "metadata": {},
   "source": [
    "points of thought:\n",
    "\n",
    "* minimun pressure might hint if the child raised his hand during the drawing. we will make a thresold depending on patterns we will try to detect.\n",
    "להמשיך עם הרעיון הזה ,למצוא את הממוצע של ערך מינימלי של לחץ בכל הטבלאות בתיקייה אחת, ואז לעשות  לפי זה את הטווח\n",
    "\n",
    "* x, y and time table - make a column of the diferrences, so we can try to find a pattern - when a line is drawn, when we are moving on to the next line and etc\n",
    "\n",
    "* make a velocity column?"
   ]
  },
  {
   "cell_type": "code",
   "execution_count": null,
   "id": "5d8e2a9a",
   "metadata": {},
   "outputs": [],
   "source": [
    "import statistics"
   ]
  },
  {
   "cell_type": "code",
   "execution_count": null,
   "id": "2b8e403c",
   "metadata": {},
   "outputs": [],
   "source": [
    "def is_raise_hand(num_folder):\n",
    "    for num_table in range (1,21):\n",
    "        f= open('task4_train'+'/'+num_folder+'/SimpleTest/'+str(num_table)+'.csv')\n",
    "        df=pd.read_csv(f)\n",
    "        min_table=min(df[' Pressure'])\n",
    "        print(min_table)\n",
    "#         print(statistics.fmean(df[' Pressure']))\n",
    "#         print(statistics.fmean((min(df[' Pressure']))))\n",
    "\n"
   ]
  },
  {
   "cell_type": "code",
   "execution_count": null,
   "id": "da11e088",
   "metadata": {},
   "outputs": [],
   "source": [
    "folder1=is_raise_hand('7554') # change name to folders\n",
    "folder2=is_raise_hand('7556')\n",
    "#df3=import_tables2('7557')\n",
    "#df4=import_tables2('7558')\n",
    "#df5=import_tables2('7559')"
   ]
  },
  {
   "cell_type": "markdown",
   "id": "cbcc56de",
   "metadata": {},
   "source": [
    "# change time columns from str to date time/ float - it is recomended to convert to date time! more manipulations"
   ]
  },
  {
   "cell_type": "code",
   "execution_count": null,
   "id": "fc162460",
   "metadata": {},
   "outputs": [],
   "source": [
    "def str_to_float(time_column):\n",
    "    convert_float=0.0\n",
    "    for time in time_column:\n",
    "        flag_dot=False\n",
    "        flag_colon=False\n",
    "        flag_not_zero=False\n",
    "        for i in range(1,len(time)):\n",
    "# mabye not needed\n",
    "             if(time[i] ==':'):\n",
    "                    flag_colon=True\n",
    "             elif(time[i] == \".\"):\n",
    "                flag_dot=True\n",
    "                convert_float=float(convert_float)\n",
    "             elif time[i]!=0 & (flag_dot is not True) :\n",
    "                flag_not_zero=True # we already found a number that isn't 0\n",
    "                convert_float=(convert_float*10)+int(time[i])\n",
    "             elif time[i]!=0 & (flag_dot is True):\n",
    "                    count=1\n",
    "                    convert_float=convert_float+(float(time[i])/(10*count)) # add fractions\n",
    "                    count=count+1\n",
    "             elif time[i]==0 & (flag_not_zero is True):# now we can't ignore the zeros  \n",
    "                 convert_float=(convert_float*10)+int(time[i])\n",
    "    return convert_float"
   ]
  },
  {
   "cell_type": "code",
   "execution_count": null,
   "id": "eb2029e6",
   "metadata": {},
   "outputs": [],
   "source": [
    "str_to_float(df1[1][' Time'])"
   ]
  },
  {
   "cell_type": "code",
   "execution_count": null,
   "id": "2d64fb1d",
   "metadata": {},
   "outputs": [],
   "source": [
    "print(format(432.456, \".2f\").atype)"
   ]
  },
  {
   "cell_type": "code",
   "execution_count": null,
   "id": "7f960119",
   "metadata": {},
   "outputs": [],
   "source": [
    "for time in df1[1][' Time']:\n",
    "    for i in range(1,len(time)):\n",
    "        count=1\n",
    "        \n",
    "        print(float(i)+(float(time[i])/(10*count)))\n",
    "        count=count+1"
   ]
  },
  {
   "cell_type": "code",
   "execution_count": null,
   "id": "c3ccf071",
   "metadata": {},
   "outputs": [],
   "source": [
    "# import datetime as datetime\n",
    "# date_time_obj = datetime.strptime(date_time_str, '%H:%M:%S')\n",
    "\n",
    "# # a=datetime.datetime.time(df[' Time'][1])\n",
    "# # a\n"
   ]
  },
  {
   "cell_type": "code",
   "execution_count": null,
   "id": "c3d785e0",
   "metadata": {},
   "outputs": [],
   "source": []
  },
  {
   "cell_type": "code",
   "execution_count": null,
   "id": "e3e6dc7d",
   "metadata": {},
   "outputs": [],
   "source": [
    "# animation function - recreation of the drawing\n",
    "\n",
    "x = df['X']\n",
    "y = df[' Y']\n",
    "\n",
    "fig = plt.figure()\n",
    "plt.xlim(df['X'].min()-100 , df['X'].max() + 100)\n",
    "plt.ylim(df[' Y'].min()-100 , df[' Y'].max() + 100)\n",
    "graph, = plt.plot([], [], 'o' ,markersize=8)\n",
    "plt.gca().invert_yaxis()\n",
    "def animate(i):\n",
    "    graph.set_data(x[:i+1], y[:i+1])\n",
    "    return graph\n",
    "\n",
    "ani = FuncAnimation(\n",
    "fig, animate, frames=len(df), interval=10)\n",
    "plt.show()"
   ]
  },
  {
   "cell_type": "markdown",
   "id": "3584f327",
   "metadata": {},
   "source": [
    "# טיוטה"
   ]
  },
  {
   "cell_type": "code",
   "execution_count": null,
   "id": "67ba1f23",
   "metadata": {},
   "outputs": [],
   "source": [
    "#df = pd.read_csv(\"task4_train\""
   ]
  },
  {
   "cell_type": "code",
   "execution_count": null,
   "id": "4ec8d9aa",
   "metadata": {},
   "outputs": [],
   "source": [
    "\n",
    "# # Import Module\n",
    "# import os\n",
    "  \n",
    "# # Folder Path\n",
    "# path = \"genre_classification.ipynb\"\n",
    "  \n",
    "# # Change the directory\n",
    "# os.chdir(path)"
   ]
  },
  {
   "cell_type": "code",
   "execution_count": null,
   "id": "61b13363",
   "metadata": {},
   "outputs": [],
   "source": [
    "from pathlib import Path\n",
    "entries=Path('genre_classification.ipynb')"
   ]
  },
  {
   "cell_type": "code",
   "execution_count": null,
   "id": "d4b9bd2b",
   "metadata": {},
   "outputs": [],
   "source": [
    "# for entry in entries.iterdir():\n",
    "#     print(entry.name)\n"
   ]
  },
  {
   "cell_type": "code",
   "execution_count": null,
   "id": "a03983fc",
   "metadata": {},
   "outputs": [],
   "source": [
    "from pathlib import Path\n",
    "\n",
    "entries = Path('Desktop/semB_project/task4_train/')\n",
    "for entry in entries.iterdir():\n",
    "    print(entry.name)\n"
   ]
  },
  {
   "cell_type": "code",
   "execution_count": null,
   "id": "07d84a67",
   "metadata": {},
   "outputs": [],
   "source": [
    "for folder in path:\n",
    "    os.chdir(folder)\n",
    "             \n",
    "                "
   ]
  },
  {
   "cell_type": "code",
   "execution_count": null,
   "id": "a2f30a9a",
   "metadata": {},
   "outputs": [],
   "source": [
    "# Read text File \n",
    "def read_text_file(file_path):\n",
    "    with open(file_path, 'r') as f:\n",
    "        print(f.read())"
   ]
  },
  {
   "cell_type": "code",
   "execution_count": null,
   "id": "4906c3da",
   "metadata": {},
   "outputs": [],
   "source": [
    "# iterate through all file\n",
    "for file in os.listdir():\n",
    "    # Check whether file is in text format or not\n",
    "    if file.endswith(\".txt\"):\n",
    "        file_path = f\"{path}\\{file}\""
   ]
  },
  {
   "cell_type": "code",
   "execution_count": null,
   "id": "7dfb62d5",
   "metadata": {},
   "outputs": [],
   "source": [
    "# call read text file function\n",
    "        read_text_file(file_path)"
   ]
  }
 ],
 "metadata": {
  "kernelspec": {
   "display_name": "Python 3 (ipykernel)",
   "language": "python",
   "name": "python3"
  },
  "language_info": {
   "codemirror_mode": {
    "name": "ipython",
    "version": 3
   },
   "file_extension": ".py",
   "mimetype": "text/x-python",
   "name": "python",
   "nbconvert_exporter": "python",
   "pygments_lexer": "ipython3",
   "version": "3.9.7"
  }
 },
 "nbformat": 4,
 "nbformat_minor": 5
}
