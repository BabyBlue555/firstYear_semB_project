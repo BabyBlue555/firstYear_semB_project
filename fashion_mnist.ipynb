{
 "cells": [
  {
   "cell_type": "code",
   "execution_count": 1,
   "id": "d3da9167",
   "metadata": {},
   "outputs": [],
   "source": [
    "# דיוק טוב נחשב - 85 אחוז"
   ]
  },
  {
   "cell_type": "code",
   "execution_count": null,
   "id": "20f57bda",
   "metadata": {},
   "outputs": [],
   "source": [
    "# 784 features, 28*28\n",
    "# each example is a \"dot\" in clustering\n",
    "# dimentual reduction - from 784 features to....\n",
    "#"
   ]
  },
  {
   "cell_type": "code",
   "execution_count": 1,
   "id": "03bf58e7",
   "metadata": {},
   "outputs": [],
   "source": [
    "import tensorflow as tf\n",
    "from tensorflow import keras"
   ]
  },
  {
   "cell_type": "code",
   "execution_count": 2,
   "id": "1e6a5e98",
   "metadata": {},
   "outputs": [],
   "source": [
    "# loading the data and splitting it to X_train,X_test -images and y_train,y_test - labels\n",
    "\n",
    "fashion_mnist = keras.datasets.fashion_mnist\n",
    "(train_images_full, train_labels_full), (test_images, test_labels) = fashion_mnist.load_data()"
   ]
  },
  {
   "cell_type": "code",
   "execution_count": 3,
   "id": "c07107d9",
   "metadata": {},
   "outputs": [],
   "source": [
    "%matplotlib inline\n",
    "import matplotlib.pyplot as plt\n",
    "import matplotlib.image as mpimg\n",
    "import numpy as np"
   ]
  },
  {
   "cell_type": "code",
   "execution_count": 4,
   "id": "f5f61942",
   "metadata": {},
   "outputs": [
    {
     "data": {
      "text/plain": [
       "3"
      ]
     },
     "execution_count": 4,
     "metadata": {},
     "output_type": "execute_result"
    }
   ],
   "source": [
    "train_images_full.ndim"
   ]
  },
  {
   "cell_type": "code",
   "execution_count": 5,
   "id": "fc677bfa",
   "metadata": {},
   "outputs": [
    {
     "data": {
      "text/plain": [
       "array([[  0,   0,   0,   0,   0,   0,   0,   0,   0,   0,   0,   0,   0,\n",
       "          0,   0,   0,   0,   0,   0,   0,   0,   0,   0,   0,   0,   0,\n",
       "          0,   0],\n",
       "       [  0,   0,   0,   0,   0,   0,   0,   0,   0,   0,   0,   0,   0,\n",
       "          0,   0,   0,   0,   0,   0,   0,   0,   0,   0,   0,   0,   0,\n",
       "          0,   0],\n",
       "       [  0,   0,   0,   0,   0,   0,   0,   0,   0,   0,   0,   0,   0,\n",
       "          0,   0,   0,   0,   0,   0,   0,   0,   0,   0,   0,   0,   0,\n",
       "          0,   0],\n",
       "       [  0,   0,   0,   0,   0,   0,   0,   0,   0,   0,   0,   0,   1,\n",
       "          0,   0,  13,  73,   0,   0,   1,   4,   0,   0,   0,   0,   1,\n",
       "          1,   0],\n",
       "       [  0,   0,   0,   0,   0,   0,   0,   0,   0,   0,   0,   0,   3,\n",
       "          0,  36, 136, 127,  62,  54,   0,   0,   0,   1,   3,   4,   0,\n",
       "          0,   3],\n",
       "       [  0,   0,   0,   0,   0,   0,   0,   0,   0,   0,   0,   0,   6,\n",
       "          0, 102, 204, 176, 134, 144, 123,  23,   0,   0,   0,   0,  12,\n",
       "         10,   0],\n",
       "       [  0,   0,   0,   0,   0,   0,   0,   0,   0,   0,   0,   0,   0,\n",
       "          0, 155, 236, 207, 178, 107, 156, 161, 109,  64,  23,  77, 130,\n",
       "         72,  15],\n",
       "       [  0,   0,   0,   0,   0,   0,   0,   0,   0,   0,   0,   1,   0,\n",
       "         69, 207, 223, 218, 216, 216, 163, 127, 121, 122, 146, 141,  88,\n",
       "        172,  66],\n",
       "       [  0,   0,   0,   0,   0,   0,   0,   0,   0,   1,   1,   1,   0,\n",
       "        200, 232, 232, 233, 229, 223, 223, 215, 213, 164, 127, 123, 196,\n",
       "        229,   0],\n",
       "       [  0,   0,   0,   0,   0,   0,   0,   0,   0,   0,   0,   0,   0,\n",
       "        183, 225, 216, 223, 228, 235, 227, 224, 222, 224, 221, 223, 245,\n",
       "        173,   0],\n",
       "       [  0,   0,   0,   0,   0,   0,   0,   0,   0,   0,   0,   0,   0,\n",
       "        193, 228, 218, 213, 198, 180, 212, 210, 211, 213, 223, 220, 243,\n",
       "        202,   0],\n",
       "       [  0,   0,   0,   0,   0,   0,   0,   0,   0,   1,   3,   0,  12,\n",
       "        219, 220, 212, 218, 192, 169, 227, 208, 218, 224, 212, 226, 197,\n",
       "        209,  52],\n",
       "       [  0,   0,   0,   0,   0,   0,   0,   0,   0,   0,   6,   0,  99,\n",
       "        244, 222, 220, 218, 203, 198, 221, 215, 213, 222, 220, 245, 119,\n",
       "        167,  56],\n",
       "       [  0,   0,   0,   0,   0,   0,   0,   0,   0,   4,   0,   0,  55,\n",
       "        236, 228, 230, 228, 240, 232, 213, 218, 223, 234, 217, 217, 209,\n",
       "         92,   0],\n",
       "       [  0,   0,   1,   4,   6,   7,   2,   0,   0,   0,   0,   0, 237,\n",
       "        226, 217, 223, 222, 219, 222, 221, 216, 223, 229, 215, 218, 255,\n",
       "         77,   0],\n",
       "       [  0,   3,   0,   0,   0,   0,   0,   0,   0,  62, 145, 204, 228,\n",
       "        207, 213, 221, 218, 208, 211, 218, 224, 223, 219, 215, 224, 244,\n",
       "        159,   0],\n",
       "       [  0,   0,   0,   0,  18,  44,  82, 107, 189, 228, 220, 222, 217,\n",
       "        226, 200, 205, 211, 230, 224, 234, 176, 188, 250, 248, 233, 238,\n",
       "        215,   0],\n",
       "       [  0,  57, 187, 208, 224, 221, 224, 208, 204, 214, 208, 209, 200,\n",
       "        159, 245, 193, 206, 223, 255, 255, 221, 234, 221, 211, 220, 232,\n",
       "        246,   0],\n",
       "       [  3, 202, 228, 224, 221, 211, 211, 214, 205, 205, 205, 220, 240,\n",
       "         80, 150, 255, 229, 221, 188, 154, 191, 210, 204, 209, 222, 228,\n",
       "        225,   0],\n",
       "       [ 98, 233, 198, 210, 222, 229, 229, 234, 249, 220, 194, 215, 217,\n",
       "        241,  65,  73, 106, 117, 168, 219, 221, 215, 217, 223, 223, 224,\n",
       "        229,  29],\n",
       "       [ 75, 204, 212, 204, 193, 205, 211, 225, 216, 185, 197, 206, 198,\n",
       "        213, 240, 195, 227, 245, 239, 223, 218, 212, 209, 222, 220, 221,\n",
       "        230,  67],\n",
       "       [ 48, 203, 183, 194, 213, 197, 185, 190, 194, 192, 202, 214, 219,\n",
       "        221, 220, 236, 225, 216, 199, 206, 186, 181, 177, 172, 181, 205,\n",
       "        206, 115],\n",
       "       [  0, 122, 219, 193, 179, 171, 183, 196, 204, 210, 213, 207, 211,\n",
       "        210, 200, 196, 194, 191, 195, 191, 198, 192, 176, 156, 167, 177,\n",
       "        210,  92],\n",
       "       [  0,   0,  74, 189, 212, 191, 175, 172, 175, 181, 185, 188, 189,\n",
       "        188, 193, 198, 204, 209, 210, 210, 211, 188, 188, 194, 192, 216,\n",
       "        170,   0],\n",
       "       [  2,   0,   0,   0,  66, 200, 222, 237, 239, 242, 246, 243, 244,\n",
       "        221, 220, 193, 191, 179, 182, 182, 181, 176, 166, 168,  99,  58,\n",
       "          0,   0],\n",
       "       [  0,   0,   0,   0,   0,   0,   0,  40,  61,  44,  72,  41,  35,\n",
       "          0,   0,   0,   0,   0,   0,   0,   0,   0,   0,   0,   0,   0,\n",
       "          0,   0],\n",
       "       [  0,   0,   0,   0,   0,   0,   0,   0,   0,   0,   0,   0,   0,\n",
       "          0,   0,   0,   0,   0,   0,   0,   0,   0,   0,   0,   0,   0,\n",
       "          0,   0],\n",
       "       [  0,   0,   0,   0,   0,   0,   0,   0,   0,   0,   0,   0,   0,\n",
       "          0,   0,   0,   0,   0,   0,   0,   0,   0,   0,   0,   0,   0,\n",
       "          0,   0]], dtype=uint8)"
      ]
     },
     "execution_count": 5,
     "metadata": {},
     "output_type": "execute_result"
    }
   ],
   "source": [
    "train_images_full[0]"
   ]
  },
  {
   "cell_type": "code",
   "execution_count": 6,
   "id": "6340f0c7",
   "metadata": {},
   "outputs": [
    {
     "data": {
      "text/plain": [
       "dtype('uint8')"
      ]
     },
     "execution_count": 6,
     "metadata": {},
     "output_type": "execute_result"
    }
   ],
   "source": [
    "train_images_full.dtype"
   ]
  },
  {
   "cell_type": "code",
   "execution_count": 7,
   "id": "e3e9cc7e",
   "metadata": {},
   "outputs": [],
   "source": [
    "# creating validation set and changing the range of the pixels - from 0 to 255 -> from 0 to 1\n",
    "\n",
    "valid_images, train_images = train_images_full[:5000] / 255.0, train_images_full[5000:] / 255.0\n",
    "valid_labels, train_labels = train_labels_full[:5000], train_labels_full[5000:]\n"
   ]
  },
  {
   "cell_type": "code",
   "execution_count": 8,
   "id": "6f1078a5",
   "metadata": {},
   "outputs": [],
   "source": [
    "# We notice that the labels are given without explaining which clothes they are supposed to represent. Therefore, we make a list \n",
    "# that will store the item names\n",
    "\n",
    "label_names = [\"T-shirt/top\", \"Trouser\", \"Pullover\", \"Dress\", \"Coat\",\n",
    " \"Sandal\", \"Shirt\", \"Sneaker\", \"Bag\", \"Ankle boot\"]\n"
   ]
  },
  {
   "cell_type": "code",
   "execution_count": 9,
   "id": "166b0a1f",
   "metadata": {},
   "outputs": [],
   "source": [
    "# class_names[train_labels[66]]"
   ]
  },
  {
   "cell_type": "code",
   "execution_count": 10,
   "id": "fdfd820e",
   "metadata": {},
   "outputs": [],
   "source": [
    "# For classification purposes in python, it will be much better to convert our 2d array into a 1d array, filling in row by row.\n",
    "# Then we turn our flattened array into a numpy array object. \n",
    "\n",
    "def convert(nparray):\n",
    "    l=[]\n",
    "    dims=nparray.shape\n",
    "    for i in range(dims[0]):\n",
    "        l.append(nparray[i].flatten())\n",
    "    l=np.array(l)\n",
    "    return l\n",
    "\n",
    "# calling the function to convert the images from 2d to 1d\n",
    "train_images_mod = convert(train_images)\n",
    "test_images_mod  = convert(test_images)\n",
    "valid_images_mod=convert(valid_images)\n"
   ]
  },
  {
   "cell_type": "code",
   "execution_count": 11,
   "id": "c4fac844",
   "metadata": {},
   "outputs": [
    {
     "name": "stdout",
     "output_type": "stream",
     "text": [
      "number of dimensions: 2\n",
      "shape (55000, 784)\n",
      "[[0. 0. 0. ... 0. 0. 0.]\n",
      " [0. 0. 0. ... 0. 0. 0.]\n",
      " [0. 0. 0. ... 0. 0. 0.]\n",
      " ...\n",
      " [0. 0. 0. ... 0. 0. 0.]\n",
      " [0. 0. 0. ... 0. 0. 0.]\n",
      " [0. 0. 0. ... 0. 0. 0.]]\n"
     ]
    }
   ],
   "source": [
    "# after convert the images from 2d to 1d\n",
    "print(\"number of dimensions:\",train_images_mod.ndim)\n",
    "print(\"shape\",train_images_mod.shape)\n",
    "print(train_images_mod)"
   ]
  },
  {
   "cell_type": "code",
   "execution_count": 12,
   "id": "14efea3f",
   "metadata": {},
   "outputs": [
    {
     "data": {
      "text/plain": [
       "(5000, 28, 28)"
      ]
     },
     "execution_count": 12,
     "metadata": {},
     "output_type": "execute_result"
    }
   ],
   "source": [
    "valid_images.shape"
   ]
  },
  {
   "cell_type": "code",
   "execution_count": 13,
   "id": "8a57cab7",
   "metadata": {},
   "outputs": [
    {
     "data": {
      "text/plain": [
       "array([[0., 0., 0., ..., 0., 0., 0.],\n",
       "       [0., 0., 0., ..., 0., 0., 0.],\n",
       "       [0., 0., 0., ..., 0., 0., 0.],\n",
       "       ...,\n",
       "       [0., 0., 0., ..., 0., 0., 0.],\n",
       "       [0., 0., 0., ..., 0., 0., 0.],\n",
       "       [0., 0., 0., ..., 0., 0., 0.]])"
      ]
     },
     "execution_count": 13,
     "metadata": {},
     "output_type": "execute_result"
    }
   ],
   "source": [
    "valid_images_mod"
   ]
  },
  {
   "cell_type": "code",
   "execution_count": 14,
   "id": "afd7d7dd",
   "metadata": {},
   "outputs": [
    {
     "name": "stdout",
     "output_type": "stream",
     "text": [
      "Train label 0 count :5543\n",
      "Test label 0 count :1000\n",
      "Train label 1 count :5444\n",
      "Test label 1 count :1000\n",
      "Train label 2 count :5496\n",
      "Test label 2 count :1000\n",
      "Train label 3 count :5499\n",
      "Test label 3 count :1000\n",
      "Train label 4 count :5512\n",
      "Test label 4 count :1000\n",
      "Train label 5 count :5507\n",
      "Test label 5 count :1000\n",
      "Train label 6 count :5507\n",
      "Test label 6 count :1000\n",
      "Train label 7 count :5488\n",
      "Test label 7 count :1000\n",
      "Train label 8 count :5510\n",
      "Test label 8 count :1000\n",
      "Train label 9 count :5494\n",
      "Test label 9 count :1000\n"
     ]
    }
   ],
   "source": [
    "# We check the distribution of labels\n",
    "\n",
    "for i in range(10):\n",
    "    print ('Train label ' + str(i) + ' count :' + str(len([j for j in train_labels if j==i])))\n",
    "    print ('Test label ' + str(i) + ' count :' + str(len([j for j in test_labels if j==i])))\n",
    "\n"
   ]
  },
  {
   "cell_type": "code",
   "execution_count": 15,
   "id": "7f70a255",
   "metadata": {},
   "outputs": [
    {
     "data": {
      "image/png": "[encoded data removed]",
      "text/plain": [
       "<Figure size 432x432 with 9 Axes>"
      ]
     },
     "metadata": {},
     "output_type": "display_data"
    }
   ],
   "source": [
    "# Before procesing further, let us plot some items and their corresponding classes.\n",
    "\n",
    "plt.figure(figsize=(6,6))\n",
    "for i in range(9):\n",
    "    plt.subplot(3,3,i+1)\n",
    "    plt.xticks([])\n",
    "    plt.yticks([])\n",
    "    plt.grid(False)\n",
    "    plt.gray()\n",
    "    plt.imshow(train_images[i]) # using the original train, not the 2d \n",
    "    plt.xlabel(label_names[train_labels[i]])\n",
    "plt.savefig('image_examples.jpg')\n",
    "plt.show()"
   ]
  },
  {
   "cell_type": "code",
   "execution_count": 16,
   "id": "6dd4be61",
   "metadata": {},
   "outputs": [
    {
     "data": {
      "text/plain": [
       "array([4, 0, 7, ..., 3, 0, 5], dtype=uint8)"
      ]
     },
     "execution_count": 16,
     "metadata": {},
     "output_type": "execute_result"
    }
   ],
   "source": [
    "train_labels"
   ]
  },
  {
   "cell_type": "code",
   "execution_count": 17,
   "id": "5815778b",
   "metadata": {},
   "outputs": [],
   "source": [
    "from sklearn.preprocessing import StandardScaler"
   ]
  },
  {
   "cell_type": "code",
   "execution_count": 18,
   "id": "5e8b76e6",
   "metadata": {},
   "outputs": [],
   "source": [
    "scaler_standard = StandardScaler()"
   ]
  },
  {
   "cell_type": "code",
   "execution_count": 19,
   "id": "d076892e",
   "metadata": {},
   "outputs": [],
   "source": [
    "train_images_standardized = train_images_mod.copy()\n",
    "test_images_standardized = test_images.copy()\n",
    "# X_train_normalized = X_train.copy()\n",
    "# X_test_normalized = X_test.copy()"
   ]
  },
  {
   "cell_type": "code",
   "execution_count": 20,
   "id": "fb9bc424",
   "metadata": {},
   "outputs": [],
   "source": [
    "# # Standardization:\n",
    "# scaler_standard.fit(train_images_mod)\n",
    "# train_images_standardized= scaler_standard.transform(train_images_standardized)\n",
    "\n",
    "# # the scaling is with the the same fitted scaler (by the train data)\n",
    "# #only transform on the test data\n",
    "# test_images_standardized = scaler_standard.transform(test_images_standardized)\n",
    "\n"
   ]
  },
  {
   "cell_type": "markdown",
   "id": "1bc0d289",
   "metadata": {},
   "source": [
    "PCA"
   ]
  },
  {
   "cell_type": "markdown",
   "id": "82e053f3",
   "metadata": {},
   "source": [
    "the more dimensions the training set has, the greater the risk of overfitting\n",
    "it"
   ]
  },
  {
   "cell_type": "code",
   "execution_count": 21,
   "id": "c2731388",
   "metadata": {},
   "outputs": [],
   "source": [
    "import matplotlib.pyplot as plt\n",
    "from sklearn.decomposition import PCA"
   ]
  },
  {
   "cell_type": "code",
   "execution_count": null,
   "id": "79595f45",
   "metadata": {},
   "outputs": [],
   "source": []
  },
  {
   "cell_type": "code",
   "execution_count": 22,
   "id": "1dd43cb3",
   "metadata": {},
   "outputs": [],
   "source": [
    "# ca = PCA(n_components=0.95)\n",
    "# X_reduced = pca.fit_transform(X_train)\n"
   ]
  },
  {
   "cell_type": "code",
   "execution_count": 23,
   "id": "e3321618",
   "metadata": {
    "scrolled": true
   },
   "outputs": [
    {
     "data": {
      "image/png": "[encoded data removed]",
      "text/plain": [
       "<Figure size 432x288 with 1 Axes>"
      ]
     },
     "metadata": {
      "needs_background": "light"
     },
     "output_type": "display_data"
    }
   ],
   "source": [
    "#  we will set n_components to be a float between 0.0 and 1.0, indicating theratio of variance we wish to preserve\n",
    "pca = PCA(n_components=0.95)\n",
    "pca_fit = pca.fit_transform(train_images_mod)\n",
    "variances = pca.explained_variance_ratio_\n",
    "\n",
    "plt.xlabel('Number of components')\n",
    "plt.ylabel('Cumulative explained variance')\n",
    "plt.plot(np.cumsum(variances))\n",
    "plt.plot([0,40],[0.8,0.8],'k-',lw=1)\n",
    "plt.savefig('expained_variance.jpg')\n",
    "plt.show()"
   ]
  },
  {
   "cell_type": "markdown",
   "id": "059f2c25",
   "metadata": {},
   "source": [
    "### the explained variance indicates the proportion of the dataset’s variance that lies along the axis of each principal component.\n",
    "### in the graph above we can see that when the Explained Variance Ratio is 0.8 (elbow in the\n",
    "### curve),the explained variance stops growing fast, which means this is a sufficient number of components, and if we choose a greater number, it increases the chances to overfit and we might lose a lot of needed data. "
   ]
  },
  {
   "cell_type": "code",
   "execution_count": 24,
   "id": "4ff1f6a1",
   "metadata": {},
   "outputs": [],
   "source": [
    "from sklearn.pipeline import Pipeline\n",
    "from sklearn.linear_model import LogisticRegression"
   ]
  },
  {
   "cell_type": "code",
   "execution_count": null,
   "id": "c2d16875",
   "metadata": {},
   "outputs": [],
   "source": [
    "pipe_log_reg_l2 = Pipeline([('pca',PCA(n_components=25)),('clf',LogisticRegression(multi_class='ovr',penalty='l2',solver='saga'))])\n",
    "model_ovr=pipe_log_reg_l2.fit(train_images_mod,train_labels)\n",
    "# pred_labels_pipe_log_reg_l2 = pipe_log_reg_l2.predict(test_images_mod)\n",
    "# test_acc_pipe_l2 = accuracy_score(pred_labels_pipe_log_reg_l2,test_labels)\n",
    "# print('Test accuracy of logistic regression on 25 PCs with l2 penalty : ' + str(test_acc_pipe_l2))"
   ]
  },
  {
   "cell_type": "code",
   "execution_count": null,
   "id": "65c0a7a6",
   "metadata": {},
   "outputs": [],
   "source": [
    "model_ovr.score(train_images_mod, train_labels)"
   ]
  },
  {
   "cell_type": "markdown",
   "id": "655b6dba",
   "metadata": {},
   "source": [
    "## Multinomial logistic regression"
   ]
  },
  {
   "cell_type": "code",
   "execution_count": null,
   "id": "bbb99d84",
   "metadata": {},
   "outputs": [],
   "source": [
    "# our problem is Multi-class Classification: Classification tasks with more than two classes."
   ]
  },
  {
   "cell_type": "code",
   "execution_count": null,
   "id": "add2b076",
   "metadata": {},
   "outputs": [],
   "source": [
    "# Logistic Regression is designed for binary classification , therfore it cannot be used for multi-class classification tasks, at least not directly."
   ]
  },
  {
   "cell_type": "code",
   "execution_count": null,
   "id": "54b06a9e",
   "metadata": {},
   "outputs": [],
   "source": [
    "# our solution: The One-vs-Rest strategy splits a multi-class classification into one binary classification problem per class."
   ]
  },
  {
   "cell_type": "code",
   "execution_count": null,
   "id": "d6461c39",
   "metadata": {},
   "outputs": [],
   "source": [
    "from sklearn.linear_model import LogisticRegression\n"
   ]
  },
  {
   "cell_type": "code",
   "execution_count": null,
   "id": "4a5d4ac8",
   "metadata": {},
   "outputs": [],
   "source": [
    "logreg = LogisticRegression(multi_class='ovr',penalty='l2',solver='saga')\n",
    "#LogisticRegression(multi_class='ovr',penalty='l2',solver='saga')"
   ]
  },
  {
   "cell_type": "code",
   "execution_count": null,
   "id": "bd9ef1ed",
   "metadata": {},
   "outputs": [],
   "source": [
    "# fit the model with data\n",
    "model_ovr2= logreg.fit(train_images_mod, train_labels)"
   ]
  },
  {
   "cell_type": "code",
   "execution_count": null,
   "id": "dfe27abc",
   "metadata": {},
   "outputs": [],
   "source": [
    "model_ovr2.score(train_images_mod, train_labels)"
   ]
  },
  {
   "cell_type": "code",
   "execution_count": null,
   "id": "23cba09b",
   "metadata": {},
   "outputs": [],
   "source": [
    "# # calling the function to convert the images from 2d to 1d\n",
    "# train_images_mod = convert(train_images)\n",
    "# test_images_mod  = convert(test_images)\n",
    "# valid_images_mod=convert(valid_images)"
   ]
  },
  {
   "cell_type": "code",
   "execution_count": null,
   "id": "b4dd0aa0",
   "metadata": {},
   "outputs": [],
   "source": []
  },
  {
   "cell_type": "markdown",
   "id": "3ab35c2f",
   "metadata": {},
   "source": [
    "# K-nearest neighbors and Nearest centroid"
   ]
  },
  {
   "cell_type": "code",
   "execution_count": null,
   "id": "60964e6e",
   "metadata": {},
   "outputs": [],
   "source": []
  },
  {
   "cell_type": "markdown",
   "id": "84949e82",
   "metadata": {},
   "source": [
    "# Random Forest"
   ]
  },
  {
   "cell_type": "code",
   "execution_count": null,
   "id": "1016706e",
   "metadata": {},
   "outputs": [],
   "source": [
    "from sklearn.tree import DecisionTreeClassifier"
   ]
  },
  {
   "cell_type": "code",
   "execution_count": null,
   "id": "6747a13a",
   "metadata": {},
   "outputs": [],
   "source": [
    "# gini impurity - when the gini hyperparameter is closer to 0, this means that there are more training instances that belong to the same class."
   ]
  },
  {
   "cell_type": "code",
   "execution_count": null,
   "id": "84aaa445",
   "metadata": {},
   "outputs": [],
   "source": [
    "tree_clf = DecisionTreeClassifier(max_depth=2)\n",
    "tree_clf.fit(train_images_mod, train_labels)"
   ]
  },
  {
   "cell_type": "code",
   "execution_count": null,
   "id": "dcff5884",
   "metadata": {},
   "outputs": [],
   "source": []
  },
  {
   "cell_type": "code",
   "execution_count": null,
   "id": "0ce78905",
   "metadata": {},
   "outputs": [],
   "source": [
    "train_labels"
   ]
  },
  {
   "cell_type": "code",
   "execution_count": null,
   "id": "c9247f7e",
   "metadata": {},
   "outputs": [],
   "source": [
    "len(train_images_mod)"
   ]
  },
  {
   "cell_type": "code",
   "execution_count": null,
   "id": "2104e713",
   "metadata": {},
   "outputs": [],
   "source": [
    "# visualize the forest - the nodes\n",
    "from sklearn.tree import export_graphviz\n",
    "from sklearn import tree\n",
    "tree.export_graphviz(\n",
    " tree_clf,\n",
    " out_file=\"fashion_mnist.dot\",\n",
    "#  feature_names=train_images_mod,\n",
    " class_names=label_names,\n",
    " rounded=True,\n",
    " filled=True\n",
    " )\n"
   ]
  },
  {
   "cell_type": "markdown",
   "id": "4c4c7938",
   "metadata": {},
   "source": [
    "# k means"
   ]
  },
  {
   "cell_type": "code",
   "execution_count": 24,
   "id": "e7035447",
   "metadata": {},
   "outputs": [
    {
     "name": "stderr",
     "output_type": "stream",
     "text": [
      "C:\\ProgramData\\Anaconda3\\lib\\site-packages\\sklearn\\linear_model\\_logistic.py:763: ConvergenceWarning: lbfgs failed to converge (status=1):\n",
      "STOP: TOTAL NO. of ITERATIONS REACHED LIMIT.\n",
      "\n",
      "Increase the number of iterations (max_iter) or scale the data as shown in:\n",
      "    https://scikit-learn.org/stable/modules/preprocessing.html\n",
      "Please also refer to the documentation for alternative solver options:\n",
      "    https://scikit-learn.org/stable/modules/linear_model.html#logistic-regression\n",
      "  n_iter_i = _check_optimize_result(\n"
     ]
    },
    {
     "data": {
      "text/plain": [
       "LogisticRegression(random_state=42)"
      ]
     },
     "execution_count": 24,
     "metadata": {},
     "output_type": "execute_result"
    }
   ],
   "source": [
    "from sklearn.linear_model import LogisticRegression\n",
    "log_reg = LogisticRegression(random_state=42)\n",
    "log_reg.fit(train_images_mod, train_labels)"
   ]
  },
  {
   "cell_type": "code",
   "execution_count": 25,
   "id": "54479813",
   "metadata": {},
   "outputs": [
    {
     "data": {
      "text/plain": [
       "0.8660727272727273"
      ]
     },
     "execution_count": 25,
     "metadata": {},
     "output_type": "execute_result"
    }
   ],
   "source": [
    "log_reg.score(train_images_mod, train_labels)\n"
   ]
  },
  {
   "cell_type": "code",
   "execution_count": 27,
   "id": "c824cf02",
   "metadata": {},
   "outputs": [],
   "source": [
    "from sklearn.cluster import KMeans"
   ]
  },
  {
   "cell_type": "code",
   "execution_count": 28,
   "id": "6dbbb499",
   "metadata": {},
   "outputs": [
    {
     "name": "stderr",
     "output_type": "stream",
     "text": [
      "C:\\ProgramData\\Anaconda3\\lib\\site-packages\\sklearn\\linear_model\\_logistic.py:763: ConvergenceWarning: lbfgs failed to converge (status=1):\n",
      "STOP: TOTAL NO. of ITERATIONS REACHED LIMIT.\n",
      "\n",
      "Increase the number of iterations (max_iter) or scale the data as shown in:\n",
      "    https://scikit-learn.org/stable/modules/preprocessing.html\n",
      "Please also refer to the documentation for alternative solver options:\n",
      "    https://scikit-learn.org/stable/modules/linear_model.html#logistic-regression\n",
      "  n_iter_i = _check_optimize_result(\n"
     ]
    },
    {
     "data": {
      "text/plain": [
       "Pipeline(steps=[('kmeans', KMeans(n_clusters=50)),\n",
       "                ('log_reg', LogisticRegression())])"
      ]
     },
     "execution_count": 28,
     "metadata": {},
     "output_type": "execute_result"
    }
   ],
   "source": [
    "from sklearn.pipeline import Pipeline\n",
    "pipeline = Pipeline([\n",
    " (\"kmeans\", KMeans(n_clusters=50)),\n",
    " (\"log_reg\", LogisticRegression()),\n",
    "])\n",
    "pipeline.fit(train_images_mod, train_labels)"
   ]
  },
  {
   "cell_type": "code",
   "execution_count": 29,
   "id": "c2c3aa99",
   "metadata": {},
   "outputs": [
    {
     "data": {
      "text/plain": [
       "0.7520727272727272"
      ]
     },
     "execution_count": 29,
     "metadata": {},
     "output_type": "execute_result"
    }
   ],
   "source": [
    " pipeline.score(train_images_mod, train_labels)"
   ]
  },
  {
   "cell_type": "code",
   "execution_count": null,
   "id": "bb7b7210",
   "metadata": {},
   "outputs": [],
   "source": []
  }
 ],
 "metadata": {
  "celltoolbar": "Attachments",
  "kernelspec": {
   "display_name": "Python 3 (ipykernel)",
   "language": "python",
   "name": "python3"
  },
  "language_info": {
   "codemirror_mode": {
    "name": "ipython",
    "version": 3
   },
   "file_extension": ".py",
   "mimetype": "text/x-python",
   "name": "python",
   "nbconvert_exporter": "python",
   "pygments_lexer": "ipython3",
   "version": "3.9.7"
  }
 },
 "nbformat": 4,
 "nbformat_minor": 5
}
